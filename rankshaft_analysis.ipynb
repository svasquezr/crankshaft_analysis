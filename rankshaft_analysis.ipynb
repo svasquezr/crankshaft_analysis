{
 "cells": [
  {
   "cell_type": "markdown",
   "metadata": {},
   "source": [
    "# ¡Hola, Stephania!  \n",
    "\n",
    "Mi nombre es Carlos Ortiz, soy code reviewer de Practicum y voy a revisar el proyecto que acabas de desarrollar.\n",
    "\n",
    "Cuando vea un error la primera vez, lo señalaré. Deberás encontrarlo y arreglarlo. La intención es que te prepares para un espacio real de trabajo. En un trabajo, el líder de tu equipo hará lo mismo. Si no puedes solucionar el error, te daré más información en la próxima ocasión. \n",
    "\n",
    "Encontrarás mis comentarios más abajo - **por favor, no los muevas, no los modifiques ni los borres**.\n",
    "\n",
    "¿Cómo lo voy a hacer? Voy a leer detenidamente cada una de las implementaciones que has llevado a cabo para cumplir con lo solicitado. Verás los comentarios de esta forma:\n",
    "\n",
    "<div class=\"alert alert-block alert-success\">\n",
    "<b>Comentario del revisor</b> <a class=\"tocSkip\"></a>\n",
    "    \n",
    "Si todo está perfecto.\n",
    "</div>\n",
    "\n",
    "\n",
    "<div class=\"alert alert-block alert-warning\">\n",
    "<b>Comentario del revisor</b> <a class=\"tocSkip\"></a>\n",
    "    \n",
    "Si tu código está bien pero se puede mejorar o hay algún detalle que le hace falta.\n",
    "</div>\n",
    "\n",
    "\n",
    "<div class=\"alert alert-block alert-danger\">\n",
    "    \n",
    "<b>Comentario del revisor</b> <a class=\"tocSkip\"></a>\n",
    "    \n",
    "    \n",
    "Si de pronto hace falta algo o existe algún problema con tu código o conclusiones.\n",
    "</div>\n",
    "\n",
    "\n",
    "Puedes responderme de esta forma: \n",
    "\n",
    "<div class=\"alert alert-block alert-info\">\n",
    "<b>Respuesta del estudiante</b> <a class=\"tocSkip\"></a>\n",
    "</div>\n",
    "\n",
    "¡Empecemos!"
   ]
  },
  {
   "cell_type": "markdown",
   "metadata": {},
   "source": [
    "# ¿Qué vende un coche?\n",
    "\n",
    "Eres un analista en Crankshaft List. Cientos de anuncios gratuitos de vehículos se publican en tu sitio web cada día. Necesitas estudiar los datos recopilados durante los últimos años y determinar qué factores influyen en el precio de un vehículo."
   ]
  },
  {
   "cell_type": "markdown",
   "metadata": {},
   "source": [
    "Para lograr este objetivo, debeMOS explorar los datos, tratar  los valores problemáticos ya sea valores ausentes, duplicados o atípicos. Además de esto, crear variables y gráficos que facilitan la lectura y comprensión del análisis."
   ]
  },
  {
   "cell_type": "markdown",
   "metadata": {},
   "source": [
    "## Inicialización"
   ]
  },
  {
   "cell_type": "code",
   "execution_count": 132,
   "metadata": {},
   "outputs": [],
   "source": [
    "# Cargar todas las librerías\n",
    "import pandas as pd\n",
    "import numpy as np\n",
    "import matplotlib.pyplot as plt"
   ]
  },
  {
   "cell_type": "markdown",
   "metadata": {},
   "source": [
    "### Cargar datos"
   ]
  },
  {
   "cell_type": "code",
   "execution_count": 133,
   "metadata": {},
   "outputs": [],
   "source": [
    "# Carga el archivo de datos en un DataFrame\n",
    "\n",
    "try:\n",
    "    vehicles = pd.read_csv('vehicles_us.csv')\n",
    "except:\n",
    "    vehicles = pd.read_csv('/datasets/vehicles_us.csv')"
   ]
  },
  {
   "cell_type": "markdown",
   "metadata": {},
   "source": [
    "### Explorar datos iniciales"
   ]
  },
  {
   "cell_type": "markdown",
   "metadata": {},
   "source": [
    "El dataset contiene los siguientes campos:\n",
    "- `price`\n",
    "- `model_year`\n",
    "- `model`\n",
    "- `condition`\n",
    "- `cylinders`\n",
    "- `fuel` — gasolina, diesel, etc.\n",
    "- `odometer` — el millaje del vehículo cuando el anuncio fue publicado\n",
    "- `transmission`\n",
    "- `paint_color`\n",
    "- `is_4wd` — si el vehículo tiene tracción a las 4 ruedas (tipo Booleano)\n",
    "- `date_posted` — la fecha en la que el anuncio fue publicado\n",
    "- `days_listed` — desde la publicación hasta que se elimina"
   ]
  },
  {
   "cell_type": "code",
   "execution_count": 134,
   "metadata": {},
   "outputs": [
    {
     "name": "stdout",
     "output_type": "stream",
     "text": [
      "<class 'pandas.core.frame.DataFrame'>\n",
      "RangeIndex: 51525 entries, 0 to 51524\n",
      "Data columns (total 13 columns):\n",
      " #   Column        Non-Null Count  Dtype  \n",
      "---  ------        --------------  -----  \n",
      " 0   price         51525 non-null  int64  \n",
      " 1   model_year    47906 non-null  float64\n",
      " 2   model         51525 non-null  object \n",
      " 3   condition     51525 non-null  object \n",
      " 4   cylinders     46265 non-null  float64\n",
      " 5   fuel          51525 non-null  object \n",
      " 6   odometer      43633 non-null  float64\n",
      " 7   transmission  51525 non-null  object \n",
      " 8   type          51525 non-null  object \n",
      " 9   paint_color   42258 non-null  object \n",
      " 10  is_4wd        25572 non-null  float64\n",
      " 11  date_posted   51525 non-null  object \n",
      " 12  days_listed   51525 non-null  int64  \n",
      "dtypes: float64(4), int64(2), object(7)\n",
      "memory usage: 5.1+ MB\n"
     ]
    }
   ],
   "source": [
    "# imprime la información general/resumida sobre el DataFrame\n",
    "vehicles.info()\n"
   ]
  },
  {
   "cell_type": "code",
   "execution_count": 135,
   "metadata": {},
   "outputs": [
    {
     "data": {
      "text/html": [
       "<div>\n",
       "<style scoped>\n",
       "    .dataframe tbody tr th:only-of-type {\n",
       "        vertical-align: middle;\n",
       "    }\n",
       "\n",
       "    .dataframe tbody tr th {\n",
       "        vertical-align: top;\n",
       "    }\n",
       "\n",
       "    .dataframe thead th {\n",
       "        text-align: right;\n",
       "    }\n",
       "</style>\n",
       "<table border=\"1\" class=\"dataframe\">\n",
       "  <thead>\n",
       "    <tr style=\"text-align: right;\">\n",
       "      <th></th>\n",
       "      <th>price</th>\n",
       "      <th>model_year</th>\n",
       "      <th>model</th>\n",
       "      <th>condition</th>\n",
       "      <th>cylinders</th>\n",
       "      <th>fuel</th>\n",
       "      <th>odometer</th>\n",
       "      <th>transmission</th>\n",
       "      <th>type</th>\n",
       "      <th>paint_color</th>\n",
       "      <th>is_4wd</th>\n",
       "      <th>date_posted</th>\n",
       "      <th>days_listed</th>\n",
       "    </tr>\n",
       "  </thead>\n",
       "  <tbody>\n",
       "    <tr>\n",
       "      <th>0</th>\n",
       "      <td>9400</td>\n",
       "      <td>2011.0</td>\n",
       "      <td>bmw x5</td>\n",
       "      <td>good</td>\n",
       "      <td>6.0</td>\n",
       "      <td>gas</td>\n",
       "      <td>145000.0</td>\n",
       "      <td>automatic</td>\n",
       "      <td>SUV</td>\n",
       "      <td>NaN</td>\n",
       "      <td>1.0</td>\n",
       "      <td>2018-06-23</td>\n",
       "      <td>19</td>\n",
       "    </tr>\n",
       "    <tr>\n",
       "      <th>1</th>\n",
       "      <td>25500</td>\n",
       "      <td>NaN</td>\n",
       "      <td>ford f-150</td>\n",
       "      <td>good</td>\n",
       "      <td>6.0</td>\n",
       "      <td>gas</td>\n",
       "      <td>88705.0</td>\n",
       "      <td>automatic</td>\n",
       "      <td>pickup</td>\n",
       "      <td>white</td>\n",
       "      <td>1.0</td>\n",
       "      <td>2018-10-19</td>\n",
       "      <td>50</td>\n",
       "    </tr>\n",
       "    <tr>\n",
       "      <th>2</th>\n",
       "      <td>5500</td>\n",
       "      <td>2013.0</td>\n",
       "      <td>hyundai sonata</td>\n",
       "      <td>like new</td>\n",
       "      <td>4.0</td>\n",
       "      <td>gas</td>\n",
       "      <td>110000.0</td>\n",
       "      <td>automatic</td>\n",
       "      <td>sedan</td>\n",
       "      <td>red</td>\n",
       "      <td>NaN</td>\n",
       "      <td>2019-02-07</td>\n",
       "      <td>79</td>\n",
       "    </tr>\n",
       "    <tr>\n",
       "      <th>3</th>\n",
       "      <td>1500</td>\n",
       "      <td>2003.0</td>\n",
       "      <td>ford f-150</td>\n",
       "      <td>fair</td>\n",
       "      <td>8.0</td>\n",
       "      <td>gas</td>\n",
       "      <td>NaN</td>\n",
       "      <td>automatic</td>\n",
       "      <td>pickup</td>\n",
       "      <td>NaN</td>\n",
       "      <td>NaN</td>\n",
       "      <td>2019-03-22</td>\n",
       "      <td>9</td>\n",
       "    </tr>\n",
       "    <tr>\n",
       "      <th>4</th>\n",
       "      <td>14900</td>\n",
       "      <td>2017.0</td>\n",
       "      <td>chrysler 200</td>\n",
       "      <td>excellent</td>\n",
       "      <td>4.0</td>\n",
       "      <td>gas</td>\n",
       "      <td>80903.0</td>\n",
       "      <td>automatic</td>\n",
       "      <td>sedan</td>\n",
       "      <td>black</td>\n",
       "      <td>NaN</td>\n",
       "      <td>2019-04-02</td>\n",
       "      <td>28</td>\n",
       "    </tr>\n",
       "  </tbody>\n",
       "</table>\n",
       "</div>"
      ],
      "text/plain": [
       "   price  model_year           model  condition  cylinders fuel  odometer  \\\n",
       "0   9400      2011.0          bmw x5       good        6.0  gas  145000.0   \n",
       "1  25500         NaN      ford f-150       good        6.0  gas   88705.0   \n",
       "2   5500      2013.0  hyundai sonata   like new        4.0  gas  110000.0   \n",
       "3   1500      2003.0      ford f-150       fair        8.0  gas       NaN   \n",
       "4  14900      2017.0    chrysler 200  excellent        4.0  gas   80903.0   \n",
       "\n",
       "  transmission    type paint_color  is_4wd date_posted  days_listed  \n",
       "0    automatic     SUV         NaN     1.0  2018-06-23           19  \n",
       "1    automatic  pickup       white     1.0  2018-10-19           50  \n",
       "2    automatic   sedan         red     NaN  2019-02-07           79  \n",
       "3    automatic  pickup         NaN     NaN  2019-03-22            9  \n",
       "4    automatic   sedan       black     NaN  2019-04-02           28  "
      ]
     },
     "execution_count": 135,
     "metadata": {},
     "output_type": "execute_result"
    }
   ],
   "source": [
    "# imprimir una muestra de datos\n",
    "\n",
    "vehicles.head()"
   ]
  },
  {
   "cell_type": "markdown",
   "metadata": {},
   "source": [
    "**Observaciones Generales:**\n",
    "- Se hace evidente valores ausentes en las columnas: odometer, paint_color y is_4wd. Tendremos que veriguar si es error en los datos, y si estos valores influyen en el precio del vehiculo. \n",
    "\n",
    "- Averiguaremos si hay valores ausentes en otras columnas que no se vean inicialmente y sus valores.\n",
    "\n",
    "- La columna de precio es la variable objetivo y existen 12 columnas más que son características; donde 4 de ellas son numéricas y las otras 9 son categóricas.\n",
    "\n",
    "- La columna date_posted debe convertirse a un formato date_time."
   ]
  },
  {
   "cell_type": "markdown",
   "metadata": {},
   "source": [
    "### Conclusiones y siguientes pasos"
   ]
  },
  {
   "cell_type": "markdown",
   "metadata": {},
   "source": [
    "1. Se hace evidente que existen demasiados valores ausentes en nuestros datos. Es muy pronto para saber si podemos eliminarlos, o si neceistamos buscar la media o mediana para reemplazarlos de la mejor manera posible. \n",
    "2. La columna 'is_4wd' es la columna con mayor cantidad de valores ausentes y puede ser problemático para nuestro análisis. Descubriremos como rellenar sus valores ausentes.\n",
    "3. La columna 'date_posted' es de tipo object y tendremos que convertir el contenido de la columna en fechas que Python entenderá."
   ]
  },
  {
   "cell_type": "markdown",
   "metadata": {},
   "source": [
    "## Tratar los valores ausentes (si hay)"
   ]
  },
  {
   "cell_type": "code",
   "execution_count": 136,
   "metadata": {},
   "outputs": [
    {
     "data": {
      "text/plain": [
       "price               0\n",
       "model_year       3619\n",
       "model               0\n",
       "condition           0\n",
       "cylinders        5260\n",
       "fuel                0\n",
       "odometer         7892\n",
       "transmission        0\n",
       "type                0\n",
       "paint_color      9267\n",
       "is_4wd          25953\n",
       "date_posted         0\n",
       "days_listed         0\n",
       "dtype: int64"
      ]
     },
     "execution_count": 136,
     "metadata": {},
     "output_type": "execute_result"
    }
   ],
   "source": [
    "# Cantidad de valores ausentes\n",
    "vehicles.isna().sum()"
   ]
  },
  {
   "cell_type": "code",
   "execution_count": 137,
   "metadata": {},
   "outputs": [
    {
     "data": {
      "text/plain": [
       "price           0.000000\n",
       "model_year      0.070238\n",
       "model           0.000000\n",
       "condition       0.000000\n",
       "cylinders       0.102086\n",
       "fuel            0.000000\n",
       "odometer        0.153168\n",
       "transmission    0.000000\n",
       "type            0.000000\n",
       "paint_color     0.179854\n",
       "is_4wd          0.503697\n",
       "date_posted     0.000000\n",
       "days_listed     0.000000\n",
       "dtype: float64"
      ]
     },
     "execution_count": 137,
     "metadata": {},
     "output_type": "execute_result"
    }
   ],
   "source": [
    "# Comprobar el porcentaje de valores ausentes\n",
    "vehicles.isna().mean()"
   ]
  },
  {
   "cell_type": "markdown",
   "metadata": {},
   "source": [
    "**Observación**\n",
    "\n",
    "1. Hay un total de 51525 entradas, lo cual debería ser igual para cada columna. Sin embargo observamos 5 columnas con una menor cantidad de registros, es decir, con valores ausentes. Estos parámetros son:\n",
    "- model_year\n",
    "- cylinders\n",
    "- odometer\n",
    "- paint_color\n",
    "- is_4wd\n",
    "\n",
    "2. De estos parámetros, 'paint_color' podemos asumir instantameamente que sus valores ausentes serán reemplazados con una nueva categoría llamada 'other' , ya que no hay forma de obtener la mediana de una variable categórica.\n",
    "\n",
    "3. El parámetro 'odometer' contiene valores ausentes significativos, por lo que reemplazaremos el valor faltante con la mediana o media de la columna.\n",
    "\n",
    "4. A el parámetro 'is_4wd' le falta más del 50 % de sus datos, mientras que a la variable model_year solo le falta un 7 % de los valores."
   ]
  },
  {
   "cell_type": "markdown",
   "metadata": {},
   "source": [
    "**- Parámatro: 'model_year'**"
   ]
  },
  {
   "cell_type": "code",
   "execution_count": 138,
   "metadata": {},
   "outputs": [
    {
     "name": "stdout",
     "output_type": "stream",
     "text": [
      "El porcentaje de valores faltantes en la variable model_year: 7.02%.\n"
     ]
    }
   ],
   "source": [
    "print(f'El porcentaje de valores faltantes en la variable model_year: {vehicles[\"model_year\"].isna().mean():.2%}.')"
   ]
  },
  {
   "cell_type": "code",
   "execution_count": 139,
   "metadata": {},
   "outputs": [
    {
     "data": {
      "text/html": [
       "<div>\n",
       "<style scoped>\n",
       "    .dataframe tbody tr th:only-of-type {\n",
       "        vertical-align: middle;\n",
       "    }\n",
       "\n",
       "    .dataframe tbody tr th {\n",
       "        vertical-align: top;\n",
       "    }\n",
       "\n",
       "    .dataframe thead th {\n",
       "        text-align: right;\n",
       "    }\n",
       "</style>\n",
       "<table border=\"1\" class=\"dataframe\">\n",
       "  <thead>\n",
       "    <tr style=\"text-align: right;\">\n",
       "      <th></th>\n",
       "      <th>price</th>\n",
       "      <th>model_year</th>\n",
       "      <th>model</th>\n",
       "      <th>condition</th>\n",
       "      <th>cylinders</th>\n",
       "      <th>fuel</th>\n",
       "      <th>odometer</th>\n",
       "      <th>transmission</th>\n",
       "      <th>type</th>\n",
       "      <th>paint_color</th>\n",
       "      <th>is_4wd</th>\n",
       "      <th>date_posted</th>\n",
       "      <th>days_listed</th>\n",
       "    </tr>\n",
       "  </thead>\n",
       "  <tbody>\n",
       "    <tr>\n",
       "      <th>1</th>\n",
       "      <td>25500</td>\n",
       "      <td>NaN</td>\n",
       "      <td>ford f-150</td>\n",
       "      <td>good</td>\n",
       "      <td>6.0</td>\n",
       "      <td>gas</td>\n",
       "      <td>88705.0</td>\n",
       "      <td>automatic</td>\n",
       "      <td>pickup</td>\n",
       "      <td>white</td>\n",
       "      <td>1.0</td>\n",
       "      <td>2018-10-19</td>\n",
       "      <td>50</td>\n",
       "    </tr>\n",
       "    <tr>\n",
       "      <th>20</th>\n",
       "      <td>6990</td>\n",
       "      <td>NaN</td>\n",
       "      <td>chevrolet tahoe</td>\n",
       "      <td>excellent</td>\n",
       "      <td>8.0</td>\n",
       "      <td>gas</td>\n",
       "      <td>147485.0</td>\n",
       "      <td>automatic</td>\n",
       "      <td>SUV</td>\n",
       "      <td>silver</td>\n",
       "      <td>1.0</td>\n",
       "      <td>2018-08-05</td>\n",
       "      <td>28</td>\n",
       "    </tr>\n",
       "    <tr>\n",
       "      <th>65</th>\n",
       "      <td>12800</td>\n",
       "      <td>NaN</td>\n",
       "      <td>ford f-150</td>\n",
       "      <td>excellent</td>\n",
       "      <td>6.0</td>\n",
       "      <td>gas</td>\n",
       "      <td>108500.0</td>\n",
       "      <td>automatic</td>\n",
       "      <td>pickup</td>\n",
       "      <td>white</td>\n",
       "      <td>NaN</td>\n",
       "      <td>2018-09-23</td>\n",
       "      <td>15</td>\n",
       "    </tr>\n",
       "    <tr>\n",
       "      <th>69</th>\n",
       "      <td>7800</td>\n",
       "      <td>NaN</td>\n",
       "      <td>ford f-150</td>\n",
       "      <td>like new</td>\n",
       "      <td>8.0</td>\n",
       "      <td>gas</td>\n",
       "      <td>97510.0</td>\n",
       "      <td>automatic</td>\n",
       "      <td>truck</td>\n",
       "      <td>white</td>\n",
       "      <td>1.0</td>\n",
       "      <td>2019-02-20</td>\n",
       "      <td>39</td>\n",
       "    </tr>\n",
       "    <tr>\n",
       "      <th>72</th>\n",
       "      <td>3650</td>\n",
       "      <td>NaN</td>\n",
       "      <td>subaru impreza</td>\n",
       "      <td>excellent</td>\n",
       "      <td>NaN</td>\n",
       "      <td>gas</td>\n",
       "      <td>74000.0</td>\n",
       "      <td>automatic</td>\n",
       "      <td>sedan</td>\n",
       "      <td>blue</td>\n",
       "      <td>1.0</td>\n",
       "      <td>2018-08-07</td>\n",
       "      <td>60</td>\n",
       "    </tr>\n",
       "    <tr>\n",
       "      <th>...</th>\n",
       "      <td>...</td>\n",
       "      <td>...</td>\n",
       "      <td>...</td>\n",
       "      <td>...</td>\n",
       "      <td>...</td>\n",
       "      <td>...</td>\n",
       "      <td>...</td>\n",
       "      <td>...</td>\n",
       "      <td>...</td>\n",
       "      <td>...</td>\n",
       "      <td>...</td>\n",
       "      <td>...</td>\n",
       "      <td>...</td>\n",
       "    </tr>\n",
       "    <tr>\n",
       "      <th>51464</th>\n",
       "      <td>8890</td>\n",
       "      <td>NaN</td>\n",
       "      <td>ford f250 super duty</td>\n",
       "      <td>good</td>\n",
       "      <td>8.0</td>\n",
       "      <td>gas</td>\n",
       "      <td>135778.0</td>\n",
       "      <td>automatic</td>\n",
       "      <td>truck</td>\n",
       "      <td>red</td>\n",
       "      <td>1.0</td>\n",
       "      <td>2018-11-28</td>\n",
       "      <td>24</td>\n",
       "    </tr>\n",
       "    <tr>\n",
       "      <th>51465</th>\n",
       "      <td>34595</td>\n",
       "      <td>NaN</td>\n",
       "      <td>gmc yukon</td>\n",
       "      <td>excellent</td>\n",
       "      <td>8.0</td>\n",
       "      <td>gas</td>\n",
       "      <td>86456.0</td>\n",
       "      <td>automatic</td>\n",
       "      <td>SUV</td>\n",
       "      <td>silver</td>\n",
       "      <td>1.0</td>\n",
       "      <td>2019-04-18</td>\n",
       "      <td>13</td>\n",
       "    </tr>\n",
       "    <tr>\n",
       "      <th>51487</th>\n",
       "      <td>1495</td>\n",
       "      <td>NaN</td>\n",
       "      <td>ford f-150</td>\n",
       "      <td>fair</td>\n",
       "      <td>6.0</td>\n",
       "      <td>gas</td>\n",
       "      <td>15804.0</td>\n",
       "      <td>manual</td>\n",
       "      <td>truck</td>\n",
       "      <td>white</td>\n",
       "      <td>1.0</td>\n",
       "      <td>2018-09-18</td>\n",
       "      <td>56</td>\n",
       "    </tr>\n",
       "    <tr>\n",
       "      <th>51488</th>\n",
       "      <td>21900</td>\n",
       "      <td>NaN</td>\n",
       "      <td>chevrolet silverado 3500hd</td>\n",
       "      <td>excellent</td>\n",
       "      <td>8.0</td>\n",
       "      <td>diesel</td>\n",
       "      <td>203000.0</td>\n",
       "      <td>automatic</td>\n",
       "      <td>truck</td>\n",
       "      <td>white</td>\n",
       "      <td>1.0</td>\n",
       "      <td>2018-12-27</td>\n",
       "      <td>37</td>\n",
       "    </tr>\n",
       "    <tr>\n",
       "      <th>51508</th>\n",
       "      <td>4950</td>\n",
       "      <td>NaN</td>\n",
       "      <td>chrysler town &amp; country</td>\n",
       "      <td>excellent</td>\n",
       "      <td>6.0</td>\n",
       "      <td>gas</td>\n",
       "      <td>150000.0</td>\n",
       "      <td>automatic</td>\n",
       "      <td>mini-van</td>\n",
       "      <td>silver</td>\n",
       "      <td>NaN</td>\n",
       "      <td>2018-06-30</td>\n",
       "      <td>48</td>\n",
       "    </tr>\n",
       "  </tbody>\n",
       "</table>\n",
       "<p>3619 rows × 13 columns</p>\n",
       "</div>"
      ],
      "text/plain": [
       "       price  model_year                       model  condition  cylinders  \\\n",
       "1      25500         NaN                  ford f-150       good        6.0   \n",
       "20      6990         NaN             chevrolet tahoe  excellent        8.0   \n",
       "65     12800         NaN                  ford f-150  excellent        6.0   \n",
       "69      7800         NaN                  ford f-150   like new        8.0   \n",
       "72      3650         NaN              subaru impreza  excellent        NaN   \n",
       "...      ...         ...                         ...        ...        ...   \n",
       "51464   8890         NaN        ford f250 super duty       good        8.0   \n",
       "51465  34595         NaN                   gmc yukon  excellent        8.0   \n",
       "51487   1495         NaN                  ford f-150       fair        6.0   \n",
       "51488  21900         NaN  chevrolet silverado 3500hd  excellent        8.0   \n",
       "51508   4950         NaN     chrysler town & country  excellent        6.0   \n",
       "\n",
       "         fuel  odometer transmission      type paint_color  is_4wd  \\\n",
       "1         gas   88705.0    automatic    pickup       white     1.0   \n",
       "20        gas  147485.0    automatic       SUV      silver     1.0   \n",
       "65        gas  108500.0    automatic    pickup       white     NaN   \n",
       "69        gas   97510.0    automatic     truck       white     1.0   \n",
       "72        gas   74000.0    automatic     sedan        blue     1.0   \n",
       "...       ...       ...          ...       ...         ...     ...   \n",
       "51464     gas  135778.0    automatic     truck         red     1.0   \n",
       "51465     gas   86456.0    automatic       SUV      silver     1.0   \n",
       "51487     gas   15804.0       manual     truck       white     1.0   \n",
       "51488  diesel  203000.0    automatic     truck       white     1.0   \n",
       "51508     gas  150000.0    automatic  mini-van      silver     NaN   \n",
       "\n",
       "      date_posted  days_listed  \n",
       "1      2018-10-19           50  \n",
       "20     2018-08-05           28  \n",
       "65     2018-09-23           15  \n",
       "69     2019-02-20           39  \n",
       "72     2018-08-07           60  \n",
       "...           ...          ...  \n",
       "51464  2018-11-28           24  \n",
       "51465  2019-04-18           13  \n",
       "51487  2018-09-18           56  \n",
       "51488  2018-12-27           37  \n",
       "51508  2018-06-30           48  \n",
       "\n",
       "[3619 rows x 13 columns]"
      ]
     },
     "execution_count": 139,
     "metadata": {},
     "output_type": "execute_result"
    }
   ],
   "source": [
    "# Comprobar si existe una tendencia que justifique los valores faltantes en 'model_year'\n",
    "vehicles[vehicles['model_year'].isna()]"
   ]
  },
  {
   "cell_type": "markdown",
   "metadata": {},
   "source": [
    "**Observaciones:**\n",
    "Tras el análisis, no parece haber ninguna tendencia a justificar la falta de valores en la variable 'model_year'. Sin embargo, la cantidad de valores ausentes no alcanza ni el 10% de todo el DataFrame. Sin embargo, no lo eliminaremos sino reemplazarlos por la mediana. "
   ]
  },
  {
   "cell_type": "code",
   "execution_count": 140,
   "metadata": {},
   "outputs": [
    {
     "data": {
      "text/plain": [
       "0"
      ]
     },
     "execution_count": 140,
     "metadata": {},
     "output_type": "execute_result"
    }
   ],
   "source": [
    "# Substituir los valores ausentes en model_year\n",
    "nonan_model_year = vehicles.groupby(['model'])['model_year'].transform('median')\n",
    "vehicles['model_year'].fillna(nonan_model_year, inplace = True)\n",
    "vehicles['model_year'].isna().sum()"
   ]
  },
  {
   "cell_type": "markdown",
   "metadata": {},
   "source": [
    "**- Parámatro: 'cylinders'**"
   ]
  },
  {
   "cell_type": "code",
   "execution_count": 141,
   "metadata": {},
   "outputs": [
    {
     "name": "stdout",
     "output_type": "stream",
     "text": [
      "El porcentaje de valores faltantes en la variable cylinders: 10.21%.\n"
     ]
    }
   ],
   "source": [
    "print(f'El porcentaje de valores faltantes en la variable cylinders: {vehicles[\"cylinders\"].isna().mean():.2%}.')"
   ]
  },
  {
   "cell_type": "code",
   "execution_count": 142,
   "metadata": {},
   "outputs": [
    {
     "data": {
      "text/html": [
       "<div>\n",
       "<style scoped>\n",
       "    .dataframe tbody tr th:only-of-type {\n",
       "        vertical-align: middle;\n",
       "    }\n",
       "\n",
       "    .dataframe tbody tr th {\n",
       "        vertical-align: top;\n",
       "    }\n",
       "\n",
       "    .dataframe thead th {\n",
       "        text-align: right;\n",
       "    }\n",
       "</style>\n",
       "<table border=\"1\" class=\"dataframe\">\n",
       "  <thead>\n",
       "    <tr style=\"text-align: right;\">\n",
       "      <th></th>\n",
       "      <th>price</th>\n",
       "      <th>model_year</th>\n",
       "      <th>model</th>\n",
       "      <th>condition</th>\n",
       "      <th>cylinders</th>\n",
       "      <th>fuel</th>\n",
       "      <th>odometer</th>\n",
       "      <th>transmission</th>\n",
       "      <th>type</th>\n",
       "      <th>paint_color</th>\n",
       "      <th>is_4wd</th>\n",
       "      <th>date_posted</th>\n",
       "      <th>days_listed</th>\n",
       "    </tr>\n",
       "  </thead>\n",
       "  <tbody>\n",
       "    <tr>\n",
       "      <th>9</th>\n",
       "      <td>9200</td>\n",
       "      <td>2008.0</td>\n",
       "      <td>honda pilot</td>\n",
       "      <td>excellent</td>\n",
       "      <td>NaN</td>\n",
       "      <td>gas</td>\n",
       "      <td>147191.0</td>\n",
       "      <td>automatic</td>\n",
       "      <td>SUV</td>\n",
       "      <td>blue</td>\n",
       "      <td>1.0</td>\n",
       "      <td>2019-02-15</td>\n",
       "      <td>17</td>\n",
       "    </tr>\n",
       "    <tr>\n",
       "      <th>36</th>\n",
       "      <td>10499</td>\n",
       "      <td>2013.0</td>\n",
       "      <td>chrysler 300</td>\n",
       "      <td>good</td>\n",
       "      <td>NaN</td>\n",
       "      <td>gas</td>\n",
       "      <td>88042.0</td>\n",
       "      <td>automatic</td>\n",
       "      <td>sedan</td>\n",
       "      <td>NaN</td>\n",
       "      <td>NaN</td>\n",
       "      <td>2018-05-05</td>\n",
       "      <td>22</td>\n",
       "    </tr>\n",
       "    <tr>\n",
       "      <th>37</th>\n",
       "      <td>7500</td>\n",
       "      <td>2005.0</td>\n",
       "      <td>toyota tacoma</td>\n",
       "      <td>good</td>\n",
       "      <td>NaN</td>\n",
       "      <td>gas</td>\n",
       "      <td>160000.0</td>\n",
       "      <td>automatic</td>\n",
       "      <td>pickup</td>\n",
       "      <td>NaN</td>\n",
       "      <td>NaN</td>\n",
       "      <td>2018-07-22</td>\n",
       "      <td>44</td>\n",
       "    </tr>\n",
       "    <tr>\n",
       "      <th>59</th>\n",
       "      <td>5200</td>\n",
       "      <td>2006.0</td>\n",
       "      <td>toyota highlander</td>\n",
       "      <td>good</td>\n",
       "      <td>NaN</td>\n",
       "      <td>gas</td>\n",
       "      <td>186000.0</td>\n",
       "      <td>automatic</td>\n",
       "      <td>SUV</td>\n",
       "      <td>green</td>\n",
       "      <td>NaN</td>\n",
       "      <td>2018-12-20</td>\n",
       "      <td>2</td>\n",
       "    </tr>\n",
       "    <tr>\n",
       "      <th>63</th>\n",
       "      <td>30000</td>\n",
       "      <td>1966.0</td>\n",
       "      <td>ford mustang</td>\n",
       "      <td>excellent</td>\n",
       "      <td>NaN</td>\n",
       "      <td>gas</td>\n",
       "      <td>51000.0</td>\n",
       "      <td>manual</td>\n",
       "      <td>convertible</td>\n",
       "      <td>red</td>\n",
       "      <td>NaN</td>\n",
       "      <td>2019-01-23</td>\n",
       "      <td>17</td>\n",
       "    </tr>\n",
       "    <tr>\n",
       "      <th>...</th>\n",
       "      <td>...</td>\n",
       "      <td>...</td>\n",
       "      <td>...</td>\n",
       "      <td>...</td>\n",
       "      <td>...</td>\n",
       "      <td>...</td>\n",
       "      <td>...</td>\n",
       "      <td>...</td>\n",
       "      <td>...</td>\n",
       "      <td>...</td>\n",
       "      <td>...</td>\n",
       "      <td>...</td>\n",
       "      <td>...</td>\n",
       "    </tr>\n",
       "    <tr>\n",
       "      <th>51429</th>\n",
       "      <td>3250</td>\n",
       "      <td>2004.0</td>\n",
       "      <td>toyota camry</td>\n",
       "      <td>good</td>\n",
       "      <td>NaN</td>\n",
       "      <td>gas</td>\n",
       "      <td>179412.0</td>\n",
       "      <td>automatic</td>\n",
       "      <td>sedan</td>\n",
       "      <td>NaN</td>\n",
       "      <td>NaN</td>\n",
       "      <td>2018-07-02</td>\n",
       "      <td>25</td>\n",
       "    </tr>\n",
       "    <tr>\n",
       "      <th>51442</th>\n",
       "      <td>28990</td>\n",
       "      <td>2018.0</td>\n",
       "      <td>ford f150</td>\n",
       "      <td>excellent</td>\n",
       "      <td>NaN</td>\n",
       "      <td>gas</td>\n",
       "      <td>10152.0</td>\n",
       "      <td>automatic</td>\n",
       "      <td>truck</td>\n",
       "      <td>white</td>\n",
       "      <td>1.0</td>\n",
       "      <td>2018-06-13</td>\n",
       "      <td>47</td>\n",
       "    </tr>\n",
       "    <tr>\n",
       "      <th>51460</th>\n",
       "      <td>5995</td>\n",
       "      <td>2007.0</td>\n",
       "      <td>ford fusion</td>\n",
       "      <td>excellent</td>\n",
       "      <td>NaN</td>\n",
       "      <td>gas</td>\n",
       "      <td>88977.0</td>\n",
       "      <td>manual</td>\n",
       "      <td>sedan</td>\n",
       "      <td>silver</td>\n",
       "      <td>NaN</td>\n",
       "      <td>2019-03-27</td>\n",
       "      <td>66</td>\n",
       "    </tr>\n",
       "    <tr>\n",
       "      <th>51477</th>\n",
       "      <td>6499</td>\n",
       "      <td>2007.0</td>\n",
       "      <td>acura tl</td>\n",
       "      <td>good</td>\n",
       "      <td>NaN</td>\n",
       "      <td>gas</td>\n",
       "      <td>112119.0</td>\n",
       "      <td>automatic</td>\n",
       "      <td>sedan</td>\n",
       "      <td>white</td>\n",
       "      <td>NaN</td>\n",
       "      <td>2018-06-22</td>\n",
       "      <td>28</td>\n",
       "    </tr>\n",
       "    <tr>\n",
       "      <th>51486</th>\n",
       "      <td>5895</td>\n",
       "      <td>2009.0</td>\n",
       "      <td>hyundai santa fe</td>\n",
       "      <td>excellent</td>\n",
       "      <td>NaN</td>\n",
       "      <td>gas</td>\n",
       "      <td>NaN</td>\n",
       "      <td>automatic</td>\n",
       "      <td>other</td>\n",
       "      <td>blue</td>\n",
       "      <td>NaN</td>\n",
       "      <td>2018-06-30</td>\n",
       "      <td>44</td>\n",
       "    </tr>\n",
       "  </tbody>\n",
       "</table>\n",
       "<p>5260 rows × 13 columns</p>\n",
       "</div>"
      ],
      "text/plain": [
       "       price  model_year              model  condition  cylinders fuel  \\\n",
       "9       9200      2008.0        honda pilot  excellent        NaN  gas   \n",
       "36     10499      2013.0       chrysler 300       good        NaN  gas   \n",
       "37      7500      2005.0      toyota tacoma       good        NaN  gas   \n",
       "59      5200      2006.0  toyota highlander       good        NaN  gas   \n",
       "63     30000      1966.0       ford mustang  excellent        NaN  gas   \n",
       "...      ...         ...                ...        ...        ...  ...   \n",
       "51429   3250      2004.0       toyota camry       good        NaN  gas   \n",
       "51442  28990      2018.0          ford f150  excellent        NaN  gas   \n",
       "51460   5995      2007.0        ford fusion  excellent        NaN  gas   \n",
       "51477   6499      2007.0           acura tl       good        NaN  gas   \n",
       "51486   5895      2009.0   hyundai santa fe  excellent        NaN  gas   \n",
       "\n",
       "       odometer transmission         type paint_color  is_4wd date_posted  \\\n",
       "9      147191.0    automatic          SUV        blue     1.0  2019-02-15   \n",
       "36      88042.0    automatic        sedan         NaN     NaN  2018-05-05   \n",
       "37     160000.0    automatic       pickup         NaN     NaN  2018-07-22   \n",
       "59     186000.0    automatic          SUV       green     NaN  2018-12-20   \n",
       "63      51000.0       manual  convertible         red     NaN  2019-01-23   \n",
       "...         ...          ...          ...         ...     ...         ...   \n",
       "51429  179412.0    automatic        sedan         NaN     NaN  2018-07-02   \n",
       "51442   10152.0    automatic        truck       white     1.0  2018-06-13   \n",
       "51460   88977.0       manual        sedan      silver     NaN  2019-03-27   \n",
       "51477  112119.0    automatic        sedan       white     NaN  2018-06-22   \n",
       "51486       NaN    automatic        other        blue     NaN  2018-06-30   \n",
       "\n",
       "       days_listed  \n",
       "9               17  \n",
       "36              22  \n",
       "37              44  \n",
       "59               2  \n",
       "63              17  \n",
       "...            ...  \n",
       "51429           25  \n",
       "51442           47  \n",
       "51460           66  \n",
       "51477           28  \n",
       "51486           44  \n",
       "\n",
       "[5260 rows x 13 columns]"
      ]
     },
     "execution_count": 142,
     "metadata": {},
     "output_type": "execute_result"
    }
   ],
   "source": [
    "# Comprobar si existe una tendencia que justifique los valores faltantes en 'model_year'\n",
    "vehicles[vehicles['cylinders'].isna()]"
   ]
  },
  {
   "cell_type": "code",
   "execution_count": 143,
   "metadata": {},
   "outputs": [
    {
     "data": {
      "text/plain": [
       "0"
      ]
     },
     "execution_count": 143,
     "metadata": {},
     "output_type": "execute_result"
    }
   ],
   "source": [
    "# Substituir los valores ausentes en model_year\n",
    "nonan_model_year = vehicles.groupby(['model'])['cylinders'].transform('median')\n",
    "vehicles['cylinders'].fillna(nonan_model_year, inplace = True)\n",
    "vehicles['cylinders'].isna().sum()"
   ]
  },
  {
   "cell_type": "markdown",
   "metadata": {},
   "source": [
    "**Observación:**\n",
    "\n",
    "Una vez más, el modelo del vehículo (model) se utiliza para completar los valores faltantes. Esta vez en nuestro parametro cilindros (cylinders), ya que los modelos ayudan determinan la fabricación y las características del motor, como el número de cilindros."
   ]
  },
  {
   "cell_type": "markdown",
   "metadata": {},
   "source": [
    "**- Parámatro: 'odometer'**"
   ]
  },
  {
   "cell_type": "code",
   "execution_count": 144,
   "metadata": {},
   "outputs": [
    {
     "name": "stdout",
     "output_type": "stream",
     "text": [
      "El porcentaje de valores faltantes en la variable odometer: 15.32%.\n"
     ]
    }
   ],
   "source": [
    "print(f'El porcentaje de valores faltantes en la variable odometer: {vehicles[\"odometer\"].isna().mean():.2%}.')"
   ]
  },
  {
   "cell_type": "code",
   "execution_count": 145,
   "metadata": {},
   "outputs": [
    {
     "data": {
      "text/html": [
       "<div>\n",
       "<style scoped>\n",
       "    .dataframe tbody tr th:only-of-type {\n",
       "        vertical-align: middle;\n",
       "    }\n",
       "\n",
       "    .dataframe tbody tr th {\n",
       "        vertical-align: top;\n",
       "    }\n",
       "\n",
       "    .dataframe thead th {\n",
       "        text-align: right;\n",
       "    }\n",
       "</style>\n",
       "<table border=\"1\" class=\"dataframe\">\n",
       "  <thead>\n",
       "    <tr style=\"text-align: right;\">\n",
       "      <th></th>\n",
       "      <th>price</th>\n",
       "      <th>model_year</th>\n",
       "      <th>model</th>\n",
       "      <th>condition</th>\n",
       "      <th>cylinders</th>\n",
       "      <th>fuel</th>\n",
       "      <th>odometer</th>\n",
       "      <th>transmission</th>\n",
       "      <th>type</th>\n",
       "      <th>paint_color</th>\n",
       "      <th>is_4wd</th>\n",
       "      <th>date_posted</th>\n",
       "      <th>days_listed</th>\n",
       "    </tr>\n",
       "  </thead>\n",
       "  <tbody>\n",
       "    <tr>\n",
       "      <th>3</th>\n",
       "      <td>1500</td>\n",
       "      <td>2003.0</td>\n",
       "      <td>ford f-150</td>\n",
       "      <td>fair</td>\n",
       "      <td>8.0</td>\n",
       "      <td>gas</td>\n",
       "      <td>NaN</td>\n",
       "      <td>automatic</td>\n",
       "      <td>pickup</td>\n",
       "      <td>NaN</td>\n",
       "      <td>NaN</td>\n",
       "      <td>2019-03-22</td>\n",
       "      <td>9</td>\n",
       "    </tr>\n",
       "    <tr>\n",
       "      <th>15</th>\n",
       "      <td>17990</td>\n",
       "      <td>2013.0</td>\n",
       "      <td>ram 1500</td>\n",
       "      <td>excellent</td>\n",
       "      <td>8.0</td>\n",
       "      <td>gas</td>\n",
       "      <td>NaN</td>\n",
       "      <td>automatic</td>\n",
       "      <td>pickup</td>\n",
       "      <td>red</td>\n",
       "      <td>1.0</td>\n",
       "      <td>2018-05-15</td>\n",
       "      <td>111</td>\n",
       "    </tr>\n",
       "    <tr>\n",
       "      <th>23</th>\n",
       "      <td>7500</td>\n",
       "      <td>2004.0</td>\n",
       "      <td>jeep wrangler</td>\n",
       "      <td>good</td>\n",
       "      <td>6.0</td>\n",
       "      <td>gas</td>\n",
       "      <td>NaN</td>\n",
       "      <td>automatic</td>\n",
       "      <td>SUV</td>\n",
       "      <td>red</td>\n",
       "      <td>1.0</td>\n",
       "      <td>2018-05-17</td>\n",
       "      <td>39</td>\n",
       "    </tr>\n",
       "    <tr>\n",
       "      <th>24</th>\n",
       "      <td>3950</td>\n",
       "      <td>2009.0</td>\n",
       "      <td>chrysler 200</td>\n",
       "      <td>excellent</td>\n",
       "      <td>4.0</td>\n",
       "      <td>gas</td>\n",
       "      <td>NaN</td>\n",
       "      <td>automatic</td>\n",
       "      <td>sedan</td>\n",
       "      <td>red</td>\n",
       "      <td>NaN</td>\n",
       "      <td>2018-06-11</td>\n",
       "      <td>40</td>\n",
       "    </tr>\n",
       "    <tr>\n",
       "      <th>25</th>\n",
       "      <td>11499</td>\n",
       "      <td>2017.0</td>\n",
       "      <td>chevrolet malibu</td>\n",
       "      <td>like new</td>\n",
       "      <td>4.0</td>\n",
       "      <td>gas</td>\n",
       "      <td>NaN</td>\n",
       "      <td>automatic</td>\n",
       "      <td>sedan</td>\n",
       "      <td>NaN</td>\n",
       "      <td>NaN</td>\n",
       "      <td>2018-07-26</td>\n",
       "      <td>43</td>\n",
       "    </tr>\n",
       "    <tr>\n",
       "      <th>...</th>\n",
       "      <td>...</td>\n",
       "      <td>...</td>\n",
       "      <td>...</td>\n",
       "      <td>...</td>\n",
       "      <td>...</td>\n",
       "      <td>...</td>\n",
       "      <td>...</td>\n",
       "      <td>...</td>\n",
       "      <td>...</td>\n",
       "      <td>...</td>\n",
       "      <td>...</td>\n",
       "      <td>...</td>\n",
       "      <td>...</td>\n",
       "    </tr>\n",
       "    <tr>\n",
       "      <th>51498</th>\n",
       "      <td>15900</td>\n",
       "      <td>2011.0</td>\n",
       "      <td>gmc sierra 1500</td>\n",
       "      <td>excellent</td>\n",
       "      <td>8.0</td>\n",
       "      <td>gas</td>\n",
       "      <td>NaN</td>\n",
       "      <td>automatic</td>\n",
       "      <td>truck</td>\n",
       "      <td>NaN</td>\n",
       "      <td>1.0</td>\n",
       "      <td>2019-01-25</td>\n",
       "      <td>69</td>\n",
       "    </tr>\n",
       "    <tr>\n",
       "      <th>51507</th>\n",
       "      <td>29500</td>\n",
       "      <td>2012.0</td>\n",
       "      <td>toyota tundra</td>\n",
       "      <td>good</td>\n",
       "      <td>8.0</td>\n",
       "      <td>gas</td>\n",
       "      <td>NaN</td>\n",
       "      <td>automatic</td>\n",
       "      <td>pickup</td>\n",
       "      <td>grey</td>\n",
       "      <td>1.0</td>\n",
       "      <td>2018-05-01</td>\n",
       "      <td>31</td>\n",
       "    </tr>\n",
       "    <tr>\n",
       "      <th>51516</th>\n",
       "      <td>8999</td>\n",
       "      <td>2011.0</td>\n",
       "      <td>jeep grand cherokee</td>\n",
       "      <td>good</td>\n",
       "      <td>6.0</td>\n",
       "      <td>gas</td>\n",
       "      <td>NaN</td>\n",
       "      <td>automatic</td>\n",
       "      <td>SUV</td>\n",
       "      <td>white</td>\n",
       "      <td>1.0</td>\n",
       "      <td>2018-11-01</td>\n",
       "      <td>51</td>\n",
       "    </tr>\n",
       "    <tr>\n",
       "      <th>51519</th>\n",
       "      <td>11750</td>\n",
       "      <td>2015.0</td>\n",
       "      <td>honda accord</td>\n",
       "      <td>excellent</td>\n",
       "      <td>4.0</td>\n",
       "      <td>gas</td>\n",
       "      <td>NaN</td>\n",
       "      <td>automatic</td>\n",
       "      <td>coupe</td>\n",
       "      <td>NaN</td>\n",
       "      <td>NaN</td>\n",
       "      <td>2018-11-24</td>\n",
       "      <td>89</td>\n",
       "    </tr>\n",
       "    <tr>\n",
       "      <th>51524</th>\n",
       "      <td>6300</td>\n",
       "      <td>2014.0</td>\n",
       "      <td>nissan altima</td>\n",
       "      <td>good</td>\n",
       "      <td>4.0</td>\n",
       "      <td>gas</td>\n",
       "      <td>NaN</td>\n",
       "      <td>automatic</td>\n",
       "      <td>sedan</td>\n",
       "      <td>NaN</td>\n",
       "      <td>NaN</td>\n",
       "      <td>2018-06-05</td>\n",
       "      <td>10</td>\n",
       "    </tr>\n",
       "  </tbody>\n",
       "</table>\n",
       "<p>7892 rows × 13 columns</p>\n",
       "</div>"
      ],
      "text/plain": [
       "       price  model_year                model  condition  cylinders fuel  \\\n",
       "3       1500      2003.0           ford f-150       fair        8.0  gas   \n",
       "15     17990      2013.0             ram 1500  excellent        8.0  gas   \n",
       "23      7500      2004.0        jeep wrangler       good        6.0  gas   \n",
       "24      3950      2009.0         chrysler 200  excellent        4.0  gas   \n",
       "25     11499      2017.0     chevrolet malibu   like new        4.0  gas   \n",
       "...      ...         ...                  ...        ...        ...  ...   \n",
       "51498  15900      2011.0      gmc sierra 1500  excellent        8.0  gas   \n",
       "51507  29500      2012.0        toyota tundra       good        8.0  gas   \n",
       "51516   8999      2011.0  jeep grand cherokee       good        6.0  gas   \n",
       "51519  11750      2015.0         honda accord  excellent        4.0  gas   \n",
       "51524   6300      2014.0        nissan altima       good        4.0  gas   \n",
       "\n",
       "       odometer transmission    type paint_color  is_4wd date_posted  \\\n",
       "3           NaN    automatic  pickup         NaN     NaN  2019-03-22   \n",
       "15          NaN    automatic  pickup         red     1.0  2018-05-15   \n",
       "23          NaN    automatic     SUV         red     1.0  2018-05-17   \n",
       "24          NaN    automatic   sedan         red     NaN  2018-06-11   \n",
       "25          NaN    automatic   sedan         NaN     NaN  2018-07-26   \n",
       "...         ...          ...     ...         ...     ...         ...   \n",
       "51498       NaN    automatic   truck         NaN     1.0  2019-01-25   \n",
       "51507       NaN    automatic  pickup        grey     1.0  2018-05-01   \n",
       "51516       NaN    automatic     SUV       white     1.0  2018-11-01   \n",
       "51519       NaN    automatic   coupe         NaN     NaN  2018-11-24   \n",
       "51524       NaN    automatic   sedan         NaN     NaN  2018-06-05   \n",
       "\n",
       "       days_listed  \n",
       "3                9  \n",
       "15             111  \n",
       "23              39  \n",
       "24              40  \n",
       "25              43  \n",
       "...            ...  \n",
       "51498           69  \n",
       "51507           31  \n",
       "51516           51  \n",
       "51519           89  \n",
       "51524           10  \n",
       "\n",
       "[7892 rows x 13 columns]"
      ]
     },
     "execution_count": 145,
     "metadata": {},
     "output_type": "execute_result"
    }
   ],
   "source": [
    "# Comprobar si existe una tendencia que justifique los valores faltantes en 'model_year'\n",
    "vehicles[vehicles['odometer'].isna()]"
   ]
  },
  {
   "cell_type": "code",
   "execution_count": 146,
   "metadata": {},
   "outputs": [
    {
     "data": {
      "text/plain": [
       "condition\n",
       "excellent    104230.0\n",
       "fair         181613.0\n",
       "good         129000.0\n",
       "like new      72982.5\n",
       "new            8002.0\n",
       "salvage      142673.5\n",
       "Name: odometer, dtype: float64"
      ]
     },
     "execution_count": 146,
     "metadata": {},
     "output_type": "execute_result"
    }
   ],
   "source": [
    "vehicles.groupby(['condition'])['odometer'].median()"
   ]
  },
  {
   "cell_type": "markdown",
   "metadata": {},
   "source": [
    "**Observación:**\n",
    "- Vamos a usar el parametro 'condition' para encontrar una mejor influencia para rellenar los valores ausentes en odómetro ya que uno de los factores más importantes que afectan la depreciación del vehículo es el kilometraje.\n",
    "- Un vehículo con bajo kilometraje mantiene su condición \"new\" por más tiempo, mientras que un vehículo con alto kilometraje está sujeto a daños por depreciación. Por lo tanto, utilizaremos la variable de condición para completar los valores que faltan en el odómetro."
   ]
  },
  {
   "cell_type": "code",
   "execution_count": 147,
   "metadata": {},
   "outputs": [
    {
     "data": {
      "text/plain": [
       "0"
      ]
     },
     "execution_count": 147,
     "metadata": {},
     "output_type": "execute_result"
    }
   ],
   "source": [
    "# Substituir los valores ausentes en model_year\n",
    "nonan_model_year = vehicles.groupby(['condition'])['odometer'].transform('median')\n",
    "vehicles['odometer'].fillna(nonan_model_year, inplace = True)\n",
    "vehicles['odometer'].isna().sum()"
   ]
  },
  {
   "cell_type": "markdown",
   "metadata": {},
   "source": [
    "**- Parámatro: 'paint_color'**"
   ]
  },
  {
   "cell_type": "code",
   "execution_count": 148,
   "metadata": {},
   "outputs": [
    {
     "name": "stdout",
     "output_type": "stream",
     "text": [
      "El porcentaje de valores faltantes en la variable paint_color: 17.99%.\n"
     ]
    }
   ],
   "source": [
    "print(f'El porcentaje de valores faltantes en la variable paint_color: {vehicles[\"paint_color\"].isna().mean():.2%}.')"
   ]
  },
  {
   "cell_type": "code",
   "execution_count": 149,
   "metadata": {},
   "outputs": [
    {
     "data": {
      "text/html": [
       "<div>\n",
       "<style scoped>\n",
       "    .dataframe tbody tr th:only-of-type {\n",
       "        vertical-align: middle;\n",
       "    }\n",
       "\n",
       "    .dataframe tbody tr th {\n",
       "        vertical-align: top;\n",
       "    }\n",
       "\n",
       "    .dataframe thead th {\n",
       "        text-align: right;\n",
       "    }\n",
       "</style>\n",
       "<table border=\"1\" class=\"dataframe\">\n",
       "  <thead>\n",
       "    <tr style=\"text-align: right;\">\n",
       "      <th></th>\n",
       "      <th>price</th>\n",
       "      <th>model_year</th>\n",
       "      <th>model</th>\n",
       "      <th>condition</th>\n",
       "      <th>cylinders</th>\n",
       "      <th>fuel</th>\n",
       "      <th>odometer</th>\n",
       "      <th>transmission</th>\n",
       "      <th>type</th>\n",
       "      <th>paint_color</th>\n",
       "      <th>is_4wd</th>\n",
       "      <th>date_posted</th>\n",
       "      <th>days_listed</th>\n",
       "    </tr>\n",
       "  </thead>\n",
       "  <tbody>\n",
       "    <tr>\n",
       "      <th>0</th>\n",
       "      <td>9400</td>\n",
       "      <td>2011.0</td>\n",
       "      <td>bmw x5</td>\n",
       "      <td>good</td>\n",
       "      <td>6.0</td>\n",
       "      <td>gas</td>\n",
       "      <td>145000.0</td>\n",
       "      <td>automatic</td>\n",
       "      <td>SUV</td>\n",
       "      <td>NaN</td>\n",
       "      <td>1.0</td>\n",
       "      <td>2018-06-23</td>\n",
       "      <td>19</td>\n",
       "    </tr>\n",
       "    <tr>\n",
       "      <th>3</th>\n",
       "      <td>1500</td>\n",
       "      <td>2003.0</td>\n",
       "      <td>ford f-150</td>\n",
       "      <td>fair</td>\n",
       "      <td>8.0</td>\n",
       "      <td>gas</td>\n",
       "      <td>181613.0</td>\n",
       "      <td>automatic</td>\n",
       "      <td>pickup</td>\n",
       "      <td>NaN</td>\n",
       "      <td>NaN</td>\n",
       "      <td>2019-03-22</td>\n",
       "      <td>9</td>\n",
       "    </tr>\n",
       "    <tr>\n",
       "      <th>8</th>\n",
       "      <td>11500</td>\n",
       "      <td>2012.0</td>\n",
       "      <td>kia sorento</td>\n",
       "      <td>excellent</td>\n",
       "      <td>4.0</td>\n",
       "      <td>gas</td>\n",
       "      <td>104174.0</td>\n",
       "      <td>automatic</td>\n",
       "      <td>SUV</td>\n",
       "      <td>NaN</td>\n",
       "      <td>1.0</td>\n",
       "      <td>2018-07-16</td>\n",
       "      <td>19</td>\n",
       "    </tr>\n",
       "    <tr>\n",
       "      <th>12</th>\n",
       "      <td>18990</td>\n",
       "      <td>2012.0</td>\n",
       "      <td>ram 1500</td>\n",
       "      <td>excellent</td>\n",
       "      <td>8.0</td>\n",
       "      <td>gas</td>\n",
       "      <td>140742.0</td>\n",
       "      <td>automatic</td>\n",
       "      <td>pickup</td>\n",
       "      <td>NaN</td>\n",
       "      <td>1.0</td>\n",
       "      <td>2019-04-02</td>\n",
       "      <td>37</td>\n",
       "    </tr>\n",
       "    <tr>\n",
       "      <th>21</th>\n",
       "      <td>5250</td>\n",
       "      <td>2007.0</td>\n",
       "      <td>toyota rav4</td>\n",
       "      <td>good</td>\n",
       "      <td>6.0</td>\n",
       "      <td>gas</td>\n",
       "      <td>154000.0</td>\n",
       "      <td>automatic</td>\n",
       "      <td>SUV</td>\n",
       "      <td>NaN</td>\n",
       "      <td>NaN</td>\n",
       "      <td>2018-08-22</td>\n",
       "      <td>8</td>\n",
       "    </tr>\n",
       "    <tr>\n",
       "      <th>...</th>\n",
       "      <td>...</td>\n",
       "      <td>...</td>\n",
       "      <td>...</td>\n",
       "      <td>...</td>\n",
       "      <td>...</td>\n",
       "      <td>...</td>\n",
       "      <td>...</td>\n",
       "      <td>...</td>\n",
       "      <td>...</td>\n",
       "      <td>...</td>\n",
       "      <td>...</td>\n",
       "      <td>...</td>\n",
       "      <td>...</td>\n",
       "    </tr>\n",
       "    <tr>\n",
       "      <th>51502</th>\n",
       "      <td>7995</td>\n",
       "      <td>2011.0</td>\n",
       "      <td>chevrolet equinox</td>\n",
       "      <td>like new</td>\n",
       "      <td>4.0</td>\n",
       "      <td>gas</td>\n",
       "      <td>111088.0</td>\n",
       "      <td>automatic</td>\n",
       "      <td>SUV</td>\n",
       "      <td>NaN</td>\n",
       "      <td>NaN</td>\n",
       "      <td>2019-04-01</td>\n",
       "      <td>175</td>\n",
       "    </tr>\n",
       "    <tr>\n",
       "      <th>51503</th>\n",
       "      <td>6595</td>\n",
       "      <td>2011.0</td>\n",
       "      <td>chevrolet malibu</td>\n",
       "      <td>excellent</td>\n",
       "      <td>4.0</td>\n",
       "      <td>gas</td>\n",
       "      <td>100780.0</td>\n",
       "      <td>automatic</td>\n",
       "      <td>sedan</td>\n",
       "      <td>NaN</td>\n",
       "      <td>NaN</td>\n",
       "      <td>2019-02-27</td>\n",
       "      <td>73</td>\n",
       "    </tr>\n",
       "    <tr>\n",
       "      <th>51506</th>\n",
       "      <td>28900</td>\n",
       "      <td>2017.0</td>\n",
       "      <td>ford f150 supercrew cab xlt</td>\n",
       "      <td>good</td>\n",
       "      <td>6.0</td>\n",
       "      <td>gas</td>\n",
       "      <td>49225.0</td>\n",
       "      <td>automatic</td>\n",
       "      <td>pickup</td>\n",
       "      <td>NaN</td>\n",
       "      <td>1.0</td>\n",
       "      <td>2019-04-11</td>\n",
       "      <td>25</td>\n",
       "    </tr>\n",
       "    <tr>\n",
       "      <th>51519</th>\n",
       "      <td>11750</td>\n",
       "      <td>2015.0</td>\n",
       "      <td>honda accord</td>\n",
       "      <td>excellent</td>\n",
       "      <td>4.0</td>\n",
       "      <td>gas</td>\n",
       "      <td>104230.0</td>\n",
       "      <td>automatic</td>\n",
       "      <td>coupe</td>\n",
       "      <td>NaN</td>\n",
       "      <td>NaN</td>\n",
       "      <td>2018-11-24</td>\n",
       "      <td>89</td>\n",
       "    </tr>\n",
       "    <tr>\n",
       "      <th>51524</th>\n",
       "      <td>6300</td>\n",
       "      <td>2014.0</td>\n",
       "      <td>nissan altima</td>\n",
       "      <td>good</td>\n",
       "      <td>4.0</td>\n",
       "      <td>gas</td>\n",
       "      <td>129000.0</td>\n",
       "      <td>automatic</td>\n",
       "      <td>sedan</td>\n",
       "      <td>NaN</td>\n",
       "      <td>NaN</td>\n",
       "      <td>2018-06-05</td>\n",
       "      <td>10</td>\n",
       "    </tr>\n",
       "  </tbody>\n",
       "</table>\n",
       "<p>9267 rows × 13 columns</p>\n",
       "</div>"
      ],
      "text/plain": [
       "       price  model_year                        model  condition  cylinders  \\\n",
       "0       9400      2011.0                       bmw x5       good        6.0   \n",
       "3       1500      2003.0                   ford f-150       fair        8.0   \n",
       "8      11500      2012.0                  kia sorento  excellent        4.0   \n",
       "12     18990      2012.0                     ram 1500  excellent        8.0   \n",
       "21      5250      2007.0                  toyota rav4       good        6.0   \n",
       "...      ...         ...                          ...        ...        ...   \n",
       "51502   7995      2011.0            chevrolet equinox   like new        4.0   \n",
       "51503   6595      2011.0             chevrolet malibu  excellent        4.0   \n",
       "51506  28900      2017.0  ford f150 supercrew cab xlt       good        6.0   \n",
       "51519  11750      2015.0                 honda accord  excellent        4.0   \n",
       "51524   6300      2014.0                nissan altima       good        4.0   \n",
       "\n",
       "      fuel  odometer transmission    type paint_color  is_4wd date_posted  \\\n",
       "0      gas  145000.0    automatic     SUV         NaN     1.0  2018-06-23   \n",
       "3      gas  181613.0    automatic  pickup         NaN     NaN  2019-03-22   \n",
       "8      gas  104174.0    automatic     SUV         NaN     1.0  2018-07-16   \n",
       "12     gas  140742.0    automatic  pickup         NaN     1.0  2019-04-02   \n",
       "21     gas  154000.0    automatic     SUV         NaN     NaN  2018-08-22   \n",
       "...    ...       ...          ...     ...         ...     ...         ...   \n",
       "51502  gas  111088.0    automatic     SUV         NaN     NaN  2019-04-01   \n",
       "51503  gas  100780.0    automatic   sedan         NaN     NaN  2019-02-27   \n",
       "51506  gas   49225.0    automatic  pickup         NaN     1.0  2019-04-11   \n",
       "51519  gas  104230.0    automatic   coupe         NaN     NaN  2018-11-24   \n",
       "51524  gas  129000.0    automatic   sedan         NaN     NaN  2018-06-05   \n",
       "\n",
       "       days_listed  \n",
       "0               19  \n",
       "3                9  \n",
       "8               19  \n",
       "12              37  \n",
       "21               8  \n",
       "...            ...  \n",
       "51502          175  \n",
       "51503           73  \n",
       "51506           25  \n",
       "51519           89  \n",
       "51524           10  \n",
       "\n",
       "[9267 rows x 13 columns]"
      ]
     },
     "execution_count": 149,
     "metadata": {},
     "output_type": "execute_result"
    }
   ],
   "source": [
    "# Comprobar si existe una tendencia que justifique los valores faltantes en 'paint_color'\n",
    "vehicles[vehicles['paint_color'].isna()]"
   ]
  },
  {
   "cell_type": "code",
   "execution_count": 150,
   "metadata": {},
   "outputs": [
    {
     "data": {
      "text/plain": [
       "array([nan, 'white', 'red', 'black', 'blue', 'grey', 'silver', 'custom',\n",
       "       'orange', 'yellow', 'brown', 'green', 'purple'], dtype=object)"
      ]
     },
     "execution_count": 150,
     "metadata": {},
     "output_type": "execute_result"
    }
   ],
   "source": [
    "vehicles['paint_color'].unique()"
   ]
  },
  {
   "cell_type": "markdown",
   "metadata": {},
   "source": [
    "**Observación:**\n",
    "Debido a que 'paint_color' es un parámetro categorico, es decir, no es una variable cuantitativa, no podemos sacarle la mediana a esta variable. Sin ponernos a adivinar que posible valor agregar a sus valores ausentes, en su lugar, los vamos a categorizar como 'others'. "
   ]
  },
  {
   "cell_type": "code",
   "execution_count": 151,
   "metadata": {},
   "outputs": [
    {
     "data": {
      "text/plain": [
       "array(['others', 'white', 'red', 'black', 'blue', 'grey', 'silver',\n",
       "       'custom', 'orange', 'yellow', 'brown', 'green', 'purple'],\n",
       "      dtype=object)"
      ]
     },
     "execution_count": 151,
     "metadata": {},
     "output_type": "execute_result"
    }
   ],
   "source": [
    "# Rellenar los valores vacios con la categoría 'others'\n",
    "vehicles['paint_color'] = vehicles['paint_color'].fillna('others')\n",
    "\n",
    "# Verificar\n",
    "vehicles['paint_color'].unique()\n"
   ]
  },
  {
   "cell_type": "markdown",
   "metadata": {},
   "source": [
    "**- Parámatro: 'is_4wd'**"
   ]
  },
  {
   "cell_type": "code",
   "execution_count": 152,
   "metadata": {},
   "outputs": [
    {
     "name": "stdout",
     "output_type": "stream",
     "text": [
      "El porcentaje de valores faltantes en la variable is_4wd: 50.37%.\n"
     ]
    }
   ],
   "source": [
    "print(f'El porcentaje de valores faltantes en la variable is_4wd: {vehicles[\"is_4wd\"].isna().mean():.2%}.')"
   ]
  },
  {
   "cell_type": "markdown",
   "metadata": {},
   "source": [
    "**Observación:**\n",
    "Falta alrededor del 50% de sus datos, lo que podría significar que los valores faltantes representan valores para los cuales la respuesta es de tipo booleano, lo que significa que su valor puede ser True (1) o False (0)."
   ]
  },
  {
   "cell_type": "code",
   "execution_count": 153,
   "metadata": {},
   "outputs": [],
   "source": [
    "# Rellenar NaN con cero\n",
    "vehicles['is_4wd'] = vehicles['is_4wd'].fillna(0)"
   ]
  },
  {
   "cell_type": "code",
   "execution_count": 154,
   "metadata": {},
   "outputs": [
    {
     "data": {
      "text/plain": [
       "array([1., 0.])"
      ]
     },
     "execution_count": 154,
     "metadata": {},
     "output_type": "execute_result"
    }
   ],
   "source": [
    "# Confirmar \n",
    "vehicles['is_4wd'].unique()"
   ]
  },
  {
   "cell_type": "code",
   "execution_count": 155,
   "metadata": {},
   "outputs": [
    {
     "data": {
      "text/plain": [
       "price           0\n",
       "model_year      0\n",
       "model           0\n",
       "condition       0\n",
       "cylinders       0\n",
       "fuel            0\n",
       "odometer        0\n",
       "transmission    0\n",
       "type            0\n",
       "paint_color     0\n",
       "is_4wd          0\n",
       "date_posted     0\n",
       "days_listed     0\n",
       "dtype: int64"
      ]
     },
     "execution_count": 155,
     "metadata": {},
     "output_type": "execute_result"
    }
   ],
   "source": [
    "# Comprobar si quedan valores ausentes\n",
    "vehicles.isna().sum()"
   ]
  },
  {
   "cell_type": "markdown",
   "metadata": {},
   "source": [
    "Con este paso, comprobamos que no hay más valores ausentes en nuestro DataFrame."
   ]
  },
  {
   "cell_type": "markdown",
   "metadata": {},
   "source": [
    "## Corregir los tipos de datos"
   ]
  },
  {
   "cell_type": "code",
   "execution_count": 156,
   "metadata": {},
   "outputs": [
    {
     "name": "stdout",
     "output_type": "stream",
     "text": [
      "<class 'pandas.core.frame.DataFrame'>\n",
      "RangeIndex: 51525 entries, 0 to 51524\n",
      "Data columns (total 13 columns):\n",
      " #   Column        Non-Null Count  Dtype  \n",
      "---  ------        --------------  -----  \n",
      " 0   price         51525 non-null  int64  \n",
      " 1   model_year    51525 non-null  float64\n",
      " 2   model         51525 non-null  object \n",
      " 3   condition     51525 non-null  object \n",
      " 4   cylinders     51525 non-null  float64\n",
      " 5   fuel          51525 non-null  object \n",
      " 6   odometer      51525 non-null  float64\n",
      " 7   transmission  51525 non-null  object \n",
      " 8   type          51525 non-null  object \n",
      " 9   paint_color   51525 non-null  object \n",
      " 10  is_4wd        51525 non-null  float64\n",
      " 11  date_posted   51525 non-null  object \n",
      " 12  days_listed   51525 non-null  int64  \n",
      "dtypes: float64(4), int64(2), object(7)\n",
      "memory usage: 5.1+ MB\n"
     ]
    }
   ],
   "source": [
    "#Imprimir información general\n",
    "vehicles.info()"
   ]
  },
  {
   "cell_type": "markdown",
   "metadata": {},
   "source": [
    "**Observaciones:**\n",
    "- Como mencionamos anteriormente, la columna 'date_posted' es de tipo object y tendremos que convertir el contenido de la columna en fechas que Python entienda.\n",
    "- cylinders: Deberá tener valores enteros positivos.\n",
    "- odometer: Deberá tener valores enteros positivos.\n",
    "- model_year: Debe ser del tipo date.\n",
    "- is_4wd: Transformarla a una variable boleana (bool)."
   ]
  },
  {
   "cell_type": "code",
   "execution_count": 157,
   "metadata": {},
   "outputs": [],
   "source": [
    "# Cambiar el tipo de variables\n",
    "vehicles['date_posted'] = pd.to_datetime(vehicles['date_posted'], format='%Y-%m-%d')\n",
    "vehicles['cylinders'] = vehicles['cylinders'].astype('int')\n",
    "vehicles['odometer'] = vehicles['odometer'].astype('int')\n",
    "vehicles['is_4wd'] = vehicles['is_4wd'].astype('bool')"
   ]
  },
  {
   "cell_type": "code",
   "execution_count": 158,
   "metadata": {},
   "outputs": [
    {
     "name": "stdout",
     "output_type": "stream",
     "text": [
      "<class 'pandas.core.frame.DataFrame'>\n",
      "RangeIndex: 51525 entries, 0 to 51524\n",
      "Data columns (total 13 columns):\n",
      " #   Column        Non-Null Count  Dtype         \n",
      "---  ------        --------------  -----         \n",
      " 0   price         51525 non-null  int64         \n",
      " 1   model_year    51525 non-null  float64       \n",
      " 2   model         51525 non-null  object        \n",
      " 3   condition     51525 non-null  object        \n",
      " 4   cylinders     51525 non-null  int64         \n",
      " 5   fuel          51525 non-null  object        \n",
      " 6   odometer      51525 non-null  int64         \n",
      " 7   transmission  51525 non-null  object        \n",
      " 8   type          51525 non-null  object        \n",
      " 9   paint_color   51525 non-null  object        \n",
      " 10  is_4wd        51525 non-null  bool          \n",
      " 11  date_posted   51525 non-null  datetime64[ns]\n",
      " 12  days_listed   51525 non-null  int64         \n",
      "dtypes: bool(1), datetime64[ns](1), float64(1), int64(4), object(6)\n",
      "memory usage: 4.8+ MB\n"
     ]
    }
   ],
   "source": [
    "# Comprobar\n",
    "vehicles.info()"
   ]
  },
  {
   "cell_type": "markdown",
   "metadata": {},
   "source": [
    "## Enriquecer datos"
   ]
  },
  {
   "cell_type": "code",
   "execution_count": 159,
   "metadata": {},
   "outputs": [],
   "source": [
    "# Agrega valores de fecha y hora para cuando se colocó el anuncio\n",
    "vehicles['year_posted'] = vehicles['date_posted'].dt.year\n",
    "vehicles['month_posted'] = vehicles['date_posted'].dt.month\n",
    "vehicles['day_posted'] = vehicles['date_posted'].dt.weekday"
   ]
  },
  {
   "cell_type": "code",
   "execution_count": 160,
   "metadata": {},
   "outputs": [],
   "source": [
    "# Agrega el años del vehículo cuando el anuncio se colocó\n",
    "vehicles['car_age'] = (vehicles['date_posted'] - pd.to_datetime(vehicles.model_year, format='%Y'))/ np.timedelta64(1, 'Y')"
   ]
  },
  {
   "cell_type": "code",
   "execution_count": 161,
   "metadata": {},
   "outputs": [
    {
     "data": {
      "text/plain": [
       "count    51525.000000\n",
       "mean         9.020356\n",
       "std          6.104839\n",
       "min          0.000000\n",
       "25%          4.722890\n",
       "50%          8.000164\n",
       "75%         12.202852\n",
       "max        110.512878\n",
       "Name: car_age, dtype: float64"
      ]
     },
     "execution_count": 161,
     "metadata": {},
     "output_type": "execute_result"
    }
   ],
   "source": [
    "vehicles['car_age'].describe()"
   ]
  },
  {
   "cell_type": "markdown",
   "metadata": {},
   "source": [
    "**Observación:**\n",
    "Aún podemos observar algunos valores iguales a 0. Esto generará una indefinición matemática en el siguiente cálculo. Son tres, así que podemos simplemente cambiar el valor de estos por 1 y estará bien. Será un redondeo hacia arriba."
   ]
  },
  {
   "cell_type": "code",
   "execution_count": 162,
   "metadata": {},
   "outputs": [
    {
     "name": "stdout",
     "output_type": "stream",
     "text": [
      "count    51525.000000\n",
      "mean         9.038283\n",
      "std          6.080339\n",
      "min          1.000000\n",
      "25%          4.722890\n",
      "50%          8.000164\n",
      "75%         12.202852\n",
      "max        110.512878\n",
      "Name: car_age, dtype: float64\n"
     ]
    }
   ],
   "source": [
    "# Reemplazar los valores de 0 por 1 en 'car_age'\n",
    "#vehicles['car_age'] = vehicles['car_age'].replace(0, 1)\n",
    "vehicles.loc[vehicles['car_age'] < 1, 'car_age'] = 1\n",
    "\n",
    "# Verificar los resultados\n",
    "print(vehicles['car_age'].describe())"
   ]
  },
  {
   "cell_type": "code",
   "execution_count": 163,
   "metadata": {},
   "outputs": [],
   "source": [
    "# Agrega el millaje promedio del vehículo por año\n",
    "vehicles['car_miles'] = vehicles['odometer']/vehicles['car_age']"
   ]
  },
  {
   "cell_type": "code",
   "execution_count": 164,
   "metadata": {},
   "outputs": [],
   "source": [
    "# Podría ser útil reemplazar los valores de condición con algo que se pueda manipular más fácilmente\n",
    "\n",
    "vehicles['condition'] = vehicles['condition'].replace(\n",
    "    to_replace = ['new', 'like new', 'excellent', 'good', 'fair', 'salvage'],\n",
    "    value = [5,4,3,2,1,0]\n",
    ")"
   ]
  },
  {
   "cell_type": "markdown",
   "metadata": {},
   "source": [
    "En la columna `condition`, reemplazamos los valores de cadena con una escala numérica:\n",
    "\n",
    "- nuevo = 5\n",
    "- como nuevo = 4\n",
    "- excelente = 3\n",
    "- bien = 2\n",
    "- bastante = 1\n",
    "- para rescate = 0"
   ]
  },
  {
   "cell_type": "code",
   "execution_count": 165,
   "metadata": {},
   "outputs": [
    {
     "data": {
      "text/plain": [
       "3    24773\n",
       "2    20145\n",
       "4     4742\n",
       "1     1607\n",
       "5      143\n",
       "0      115\n",
       "Name: condition, dtype: int64"
      ]
     },
     "execution_count": 165,
     "metadata": {},
     "output_type": "execute_result"
    }
   ],
   "source": [
    "# Mostrar\n",
    "vehicles['condition'].value_counts()"
   ]
  },
  {
   "cell_type": "markdown",
   "metadata": {},
   "source": [
    "## Comprobar datos limpios"
   ]
  },
  {
   "cell_type": "markdown",
   "metadata": {},
   "source": [
    "Observaremos nuestros datos nuevamente ahora que están listos para el análisis."
   ]
  },
  {
   "cell_type": "code",
   "execution_count": 166,
   "metadata": {},
   "outputs": [
    {
     "name": "stdout",
     "output_type": "stream",
     "text": [
      "<class 'pandas.core.frame.DataFrame'>\n",
      "RangeIndex: 51525 entries, 0 to 51524\n",
      "Data columns (total 18 columns):\n",
      " #   Column        Non-Null Count  Dtype         \n",
      "---  ------        --------------  -----         \n",
      " 0   price         51525 non-null  int64         \n",
      " 1   model_year    51525 non-null  float64       \n",
      " 2   model         51525 non-null  object        \n",
      " 3   condition     51525 non-null  int64         \n",
      " 4   cylinders     51525 non-null  int64         \n",
      " 5   fuel          51525 non-null  object        \n",
      " 6   odometer      51525 non-null  int64         \n",
      " 7   transmission  51525 non-null  object        \n",
      " 8   type          51525 non-null  object        \n",
      " 9   paint_color   51525 non-null  object        \n",
      " 10  is_4wd        51525 non-null  bool          \n",
      " 11  date_posted   51525 non-null  datetime64[ns]\n",
      " 12  days_listed   51525 non-null  int64         \n",
      " 13  year_posted   51525 non-null  int64         \n",
      " 14  month_posted  51525 non-null  int64         \n",
      " 15  day_posted    51525 non-null  int64         \n",
      " 16  car_age       51525 non-null  float64       \n",
      " 17  car_miles     51525 non-null  float64       \n",
      "dtypes: bool(1), datetime64[ns](1), float64(3), int64(8), object(5)\n",
      "memory usage: 6.7+ MB\n"
     ]
    }
   ],
   "source": [
    "# imprime la información general/resumida sobre el DataFrame\n",
    "vehicles.info()"
   ]
  },
  {
   "cell_type": "code",
   "execution_count": 167,
   "metadata": {},
   "outputs": [
    {
     "data": {
      "text/html": [
       "<div>\n",
       "<style scoped>\n",
       "    .dataframe tbody tr th:only-of-type {\n",
       "        vertical-align: middle;\n",
       "    }\n",
       "\n",
       "    .dataframe tbody tr th {\n",
       "        vertical-align: top;\n",
       "    }\n",
       "\n",
       "    .dataframe thead th {\n",
       "        text-align: right;\n",
       "    }\n",
       "</style>\n",
       "<table border=\"1\" class=\"dataframe\">\n",
       "  <thead>\n",
       "    <tr style=\"text-align: right;\">\n",
       "      <th></th>\n",
       "      <th>price</th>\n",
       "      <th>model_year</th>\n",
       "      <th>model</th>\n",
       "      <th>condition</th>\n",
       "      <th>cylinders</th>\n",
       "      <th>fuel</th>\n",
       "      <th>odometer</th>\n",
       "      <th>transmission</th>\n",
       "      <th>type</th>\n",
       "      <th>paint_color</th>\n",
       "      <th>is_4wd</th>\n",
       "      <th>date_posted</th>\n",
       "      <th>days_listed</th>\n",
       "      <th>year_posted</th>\n",
       "      <th>month_posted</th>\n",
       "      <th>day_posted</th>\n",
       "      <th>car_age</th>\n",
       "      <th>car_miles</th>\n",
       "    </tr>\n",
       "  </thead>\n",
       "  <tbody>\n",
       "    <tr>\n",
       "      <th>0</th>\n",
       "      <td>9400</td>\n",
       "      <td>2011.0</td>\n",
       "      <td>bmw x5</td>\n",
       "      <td>2</td>\n",
       "      <td>6</td>\n",
       "      <td>gas</td>\n",
       "      <td>145000</td>\n",
       "      <td>automatic</td>\n",
       "      <td>SUV</td>\n",
       "      <td>others</td>\n",
       "      <td>True</td>\n",
       "      <td>2018-06-23</td>\n",
       "      <td>19</td>\n",
       "      <td>2018</td>\n",
       "      <td>6</td>\n",
       "      <td>5</td>\n",
       "      <td>7.474486</td>\n",
       "      <td>19399.326923</td>\n",
       "    </tr>\n",
       "    <tr>\n",
       "      <th>1</th>\n",
       "      <td>25500</td>\n",
       "      <td>2011.0</td>\n",
       "      <td>ford f-150</td>\n",
       "      <td>2</td>\n",
       "      <td>6</td>\n",
       "      <td>gas</td>\n",
       "      <td>88705</td>\n",
       "      <td>automatic</td>\n",
       "      <td>pickup</td>\n",
       "      <td>white</td>\n",
       "      <td>True</td>\n",
       "      <td>2018-10-19</td>\n",
       "      <td>50</td>\n",
       "      <td>2018</td>\n",
       "      <td>10</td>\n",
       "      <td>4</td>\n",
       "      <td>7.797559</td>\n",
       "      <td>11375.995773</td>\n",
       "    </tr>\n",
       "    <tr>\n",
       "      <th>2</th>\n",
       "      <td>5500</td>\n",
       "      <td>2013.0</td>\n",
       "      <td>hyundai sonata</td>\n",
       "      <td>4</td>\n",
       "      <td>4</td>\n",
       "      <td>gas</td>\n",
       "      <td>110000</td>\n",
       "      <td>automatic</td>\n",
       "      <td>sedan</td>\n",
       "      <td>red</td>\n",
       "      <td>False</td>\n",
       "      <td>2019-02-07</td>\n",
       "      <td>79</td>\n",
       "      <td>2019</td>\n",
       "      <td>2</td>\n",
       "      <td>3</td>\n",
       "      <td>6.100057</td>\n",
       "      <td>18032.618941</td>\n",
       "    </tr>\n",
       "    <tr>\n",
       "      <th>3</th>\n",
       "      <td>1500</td>\n",
       "      <td>2003.0</td>\n",
       "      <td>ford f-150</td>\n",
       "      <td>1</td>\n",
       "      <td>8</td>\n",
       "      <td>gas</td>\n",
       "      <td>181613</td>\n",
       "      <td>automatic</td>\n",
       "      <td>pickup</td>\n",
       "      <td>others</td>\n",
       "      <td>False</td>\n",
       "      <td>2019-03-22</td>\n",
       "      <td>9</td>\n",
       "      <td>2019</td>\n",
       "      <td>3</td>\n",
       "      <td>4</td>\n",
       "      <td>16.219361</td>\n",
       "      <td>11197.296785</td>\n",
       "    </tr>\n",
       "    <tr>\n",
       "      <th>4</th>\n",
       "      <td>14900</td>\n",
       "      <td>2017.0</td>\n",
       "      <td>chrysler 200</td>\n",
       "      <td>3</td>\n",
       "      <td>4</td>\n",
       "      <td>gas</td>\n",
       "      <td>80903</td>\n",
       "      <td>automatic</td>\n",
       "      <td>sedan</td>\n",
       "      <td>black</td>\n",
       "      <td>False</td>\n",
       "      <td>2019-04-02</td>\n",
       "      <td>28</td>\n",
       "      <td>2019</td>\n",
       "      <td>4</td>\n",
       "      <td>1</td>\n",
       "      <td>2.247822</td>\n",
       "      <td>35991.734443</td>\n",
       "    </tr>\n",
       "  </tbody>\n",
       "</table>\n",
       "</div>"
      ],
      "text/plain": [
       "   price  model_year           model  condition  cylinders fuel  odometer  \\\n",
       "0   9400      2011.0          bmw x5          2          6  gas    145000   \n",
       "1  25500      2011.0      ford f-150          2          6  gas     88705   \n",
       "2   5500      2013.0  hyundai sonata          4          4  gas    110000   \n",
       "3   1500      2003.0      ford f-150          1          8  gas    181613   \n",
       "4  14900      2017.0    chrysler 200          3          4  gas     80903   \n",
       "\n",
       "  transmission    type paint_color  is_4wd date_posted  days_listed  \\\n",
       "0    automatic     SUV      others    True  2018-06-23           19   \n",
       "1    automatic  pickup       white    True  2018-10-19           50   \n",
       "2    automatic   sedan         red   False  2019-02-07           79   \n",
       "3    automatic  pickup      others   False  2019-03-22            9   \n",
       "4    automatic   sedan       black   False  2019-04-02           28   \n",
       "\n",
       "   year_posted  month_posted  day_posted    car_age     car_miles  \n",
       "0         2018             6           5   7.474486  19399.326923  \n",
       "1         2018            10           4   7.797559  11375.995773  \n",
       "2         2019             2           3   6.100057  18032.618941  \n",
       "3         2019             3           4  16.219361  11197.296785  \n",
       "4         2019             4           1   2.247822  35991.734443  "
      ]
     },
     "execution_count": 167,
     "metadata": {},
     "output_type": "execute_result"
    }
   ],
   "source": [
    "# Imprimir una muestra de datos\n",
    "vehicles.head()"
   ]
  },
  {
   "cell_type": "code",
   "execution_count": 168,
   "metadata": {},
   "outputs": [
    {
     "data": {
      "text/html": [
       "<div>\n",
       "<style scoped>\n",
       "    .dataframe tbody tr th:only-of-type {\n",
       "        vertical-align: middle;\n",
       "    }\n",
       "\n",
       "    .dataframe tbody tr th {\n",
       "        vertical-align: top;\n",
       "    }\n",
       "\n",
       "    .dataframe thead th {\n",
       "        text-align: right;\n",
       "    }\n",
       "</style>\n",
       "<table border=\"1\" class=\"dataframe\">\n",
       "  <thead>\n",
       "    <tr style=\"text-align: right;\">\n",
       "      <th></th>\n",
       "      <th>price</th>\n",
       "      <th>model_year</th>\n",
       "      <th>condition</th>\n",
       "      <th>cylinders</th>\n",
       "      <th>odometer</th>\n",
       "      <th>days_listed</th>\n",
       "      <th>year_posted</th>\n",
       "      <th>month_posted</th>\n",
       "      <th>day_posted</th>\n",
       "      <th>car_age</th>\n",
       "      <th>car_miles</th>\n",
       "    </tr>\n",
       "  </thead>\n",
       "  <tbody>\n",
       "    <tr>\n",
       "      <th>count</th>\n",
       "      <td>51525.000000</td>\n",
       "      <td>51525.000000</td>\n",
       "      <td>51525.000000</td>\n",
       "      <td>51525.000000</td>\n",
       "      <td>51525.000000</td>\n",
       "      <td>51525.00000</td>\n",
       "      <td>51525.000000</td>\n",
       "      <td>51525.000000</td>\n",
       "      <td>51525.000000</td>\n",
       "      <td>51525.000000</td>\n",
       "      <td>51525.000000</td>\n",
       "    </tr>\n",
       "    <tr>\n",
       "      <th>mean</th>\n",
       "      <td>12132.464920</td>\n",
       "      <td>2009.793954</td>\n",
       "      <td>2.637535</td>\n",
       "      <td>6.121067</td>\n",
       "      <td>115199.007278</td>\n",
       "      <td>39.55476</td>\n",
       "      <td>2018.307462</td>\n",
       "      <td>6.628491</td>\n",
       "      <td>3.005434</td>\n",
       "      <td>9.038283</td>\n",
       "      <td>16780.131017</td>\n",
       "    </tr>\n",
       "    <tr>\n",
       "      <th>std</th>\n",
       "      <td>10040.803015</td>\n",
       "      <td>6.099296</td>\n",
       "      <td>0.712447</td>\n",
       "      <td>1.657457</td>\n",
       "      <td>60484.868232</td>\n",
       "      <td>28.20427</td>\n",
       "      <td>0.461447</td>\n",
       "      <td>3.474134</td>\n",
       "      <td>1.997759</td>\n",
       "      <td>6.080339</td>\n",
       "      <td>13143.663267</td>\n",
       "    </tr>\n",
       "    <tr>\n",
       "      <th>min</th>\n",
       "      <td>1.000000</td>\n",
       "      <td>1908.000000</td>\n",
       "      <td>0.000000</td>\n",
       "      <td>3.000000</td>\n",
       "      <td>0.000000</td>\n",
       "      <td>0.00000</td>\n",
       "      <td>2018.000000</td>\n",
       "      <td>1.000000</td>\n",
       "      <td>0.000000</td>\n",
       "      <td>1.000000</td>\n",
       "      <td>0.000000</td>\n",
       "    </tr>\n",
       "    <tr>\n",
       "      <th>25%</th>\n",
       "      <td>5000.000000</td>\n",
       "      <td>2007.000000</td>\n",
       "      <td>2.000000</td>\n",
       "      <td>4.000000</td>\n",
       "      <td>75668.000000</td>\n",
       "      <td>19.00000</td>\n",
       "      <td>2018.000000</td>\n",
       "      <td>3.000000</td>\n",
       "      <td>1.000000</td>\n",
       "      <td>4.722890</td>\n",
       "      <td>9888.110591</td>\n",
       "    </tr>\n",
       "    <tr>\n",
       "      <th>50%</th>\n",
       "      <td>9000.000000</td>\n",
       "      <td>2011.000000</td>\n",
       "      <td>3.000000</td>\n",
       "      <td>6.000000</td>\n",
       "      <td>110908.000000</td>\n",
       "      <td>33.00000</td>\n",
       "      <td>2018.000000</td>\n",
       "      <td>7.000000</td>\n",
       "      <td>3.000000</td>\n",
       "      <td>8.000164</td>\n",
       "      <td>14046.125079</td>\n",
       "    </tr>\n",
       "    <tr>\n",
       "      <th>75%</th>\n",
       "      <td>16839.000000</td>\n",
       "      <td>2014.000000</td>\n",
       "      <td>3.000000</td>\n",
       "      <td>8.000000</td>\n",
       "      <td>147821.000000</td>\n",
       "      <td>53.00000</td>\n",
       "      <td>2019.000000</td>\n",
       "      <td>10.000000</td>\n",
       "      <td>5.000000</td>\n",
       "      <td>12.202852</td>\n",
       "      <td>19803.178559</td>\n",
       "    </tr>\n",
       "    <tr>\n",
       "      <th>max</th>\n",
       "      <td>375000.000000</td>\n",
       "      <td>2019.000000</td>\n",
       "      <td>5.000000</td>\n",
       "      <td>12.000000</td>\n",
       "      <td>990000.000000</td>\n",
       "      <td>271.00000</td>\n",
       "      <td>2019.000000</td>\n",
       "      <td>12.000000</td>\n",
       "      <td>6.000000</td>\n",
       "      <td>110.512878</td>\n",
       "      <td>373200.000000</td>\n",
       "    </tr>\n",
       "  </tbody>\n",
       "</table>\n",
       "</div>"
      ],
      "text/plain": [
       "               price    model_year     condition     cylinders       odometer  \\\n",
       "count   51525.000000  51525.000000  51525.000000  51525.000000   51525.000000   \n",
       "mean    12132.464920   2009.793954      2.637535      6.121067  115199.007278   \n",
       "std     10040.803015      6.099296      0.712447      1.657457   60484.868232   \n",
       "min         1.000000   1908.000000      0.000000      3.000000       0.000000   \n",
       "25%      5000.000000   2007.000000      2.000000      4.000000   75668.000000   \n",
       "50%      9000.000000   2011.000000      3.000000      6.000000  110908.000000   \n",
       "75%     16839.000000   2014.000000      3.000000      8.000000  147821.000000   \n",
       "max    375000.000000   2019.000000      5.000000     12.000000  990000.000000   \n",
       "\n",
       "       days_listed   year_posted  month_posted    day_posted       car_age  \\\n",
       "count  51525.00000  51525.000000  51525.000000  51525.000000  51525.000000   \n",
       "mean      39.55476   2018.307462      6.628491      3.005434      9.038283   \n",
       "std       28.20427      0.461447      3.474134      1.997759      6.080339   \n",
       "min        0.00000   2018.000000      1.000000      0.000000      1.000000   \n",
       "25%       19.00000   2018.000000      3.000000      1.000000      4.722890   \n",
       "50%       33.00000   2018.000000      7.000000      3.000000      8.000164   \n",
       "75%       53.00000   2019.000000     10.000000      5.000000     12.202852   \n",
       "max      271.00000   2019.000000     12.000000      6.000000    110.512878   \n",
       "\n",
       "           car_miles  \n",
       "count   51525.000000  \n",
       "mean    16780.131017  \n",
       "std     13143.663267  \n",
       "min         0.000000  \n",
       "25%      9888.110591  \n",
       "50%     14046.125079  \n",
       "75%     19803.178559  \n",
       "max    373200.000000  "
      ]
     },
     "execution_count": 168,
     "metadata": {},
     "output_type": "execute_result"
    }
   ],
   "source": [
    "vehicles.describe()"
   ]
  },
  {
   "cell_type": "markdown",
   "metadata": {},
   "source": [
    "## Estudiar parámetros principales\n",
    "\n",
    "Los parámetros son:\n",
    "- Precio\n",
    "- Los años del vehículo cuando el anuncio se colocó\n",
    "- Millaje\n",
    "- Número de cilindros\n",
    "- Estado"
   ]
  },
  {
   "cell_type": "markdown",
   "metadata": {},
   "source": [
    "**Histogramas de caja para cada uno de los parámetros:**"
   ]
  },
  {
   "cell_type": "code",
   "execution_count": 169,
   "metadata": {},
   "outputs": [],
   "source": [
    "# Lista de nombres de los parámetros principales\n",
    "prin_parameter = ['price', 'car_age', 'odometer', 'cylinders', 'condition']"
   ]
  },
  {
   "cell_type": "code",
   "execution_count": 170,
   "metadata": {},
   "outputs": [
    {
     "data": {
      "image/png": "[encoded data removed]",
      "text/plain": [
       "<Figure size 432x288 with 1 Axes>"
      ]
     },
     "metadata": {
      "needs_background": "light"
     },
     "output_type": "display_data"
    },
    {
     "data": {
      "image/png": "[encoded data removed]",
      "text/plain": [
       "<Figure size 432x288 with 1 Axes>"
      ]
     },
     "metadata": {
      "needs_background": "light"
     },
     "output_type": "display_data"
    },
    {
     "data": {
      "image/png": "[encoded data removed]",
      "text/plain": [
       "<Figure size 432x288 with 1 Axes>"
      ]
     },
     "metadata": {
      "needs_background": "light"
     },
     "output_type": "display_data"
    },
    {
     "data": {
      "image/png": "[encoded data removed]",
      "text/plain": [
       "<Figure size 432x288 with 1 Axes>"
      ]
     },
     "metadata": {
      "needs_background": "light"
     },
     "output_type": "display_data"
    },
    {
     "data": {
      "image/png": "[encoded data removed]",
      "text/plain": [
       "<Figure size 432x288 with 1 Axes>"
      ]
     },
     "metadata": {
      "needs_background": "light"
     },
     "output_type": "display_data"
    }
   ],
   "source": [
    "# Generar histogramas para cada parámetro\n",
    "for column in prin_parameter:\n",
    "    vehicles[column].hist(bins=30)\n",
    "    plt.title('Histograma de ' + column)\n",
    "    plt.xlabel(column)\n",
    "    plt.ylabel('Frecuencia')\n",
    "    plt.show()"
   ]
  },
  {
   "cell_type": "markdown",
   "metadata": {},
   "source": [
    "**Observaciones**\n",
    "\n",
    "1. Los histogramas anteriores revelan valores atípicos en las variables price, odometer y car_age. Estos valores atípicos son sugeridos por el flujo largo a la derecha que obliga a crear rangos extremos en el eje x de los gráficos con barras azules.\n",
    "\n",
    "2. En el parámatro 'price' podemos ver que la distribución tiene un sesgo positivo con el pico alrededor de 5000.\n",
    "\n",
    "3. Podemos ver que la distribución tiene un sesgo positivo con el pico alrededor de 10 en 'car_age'.\n",
    "\n",
    "4. Vamos a crear una distribución de diagrama de caja para las variables price, odometer y car_age."
   ]
  },
  {
   "cell_type": "markdown",
   "metadata": {},
   "source": [
    "**- Parámatro: 'price'**"
   ]
  },
  {
   "cell_type": "code",
   "execution_count": 171,
   "metadata": {},
   "outputs": [
    {
     "data": {
      "image/png": "[encoded data removed]",
      "text/plain": [
       "<Figure size 432x288 with 1 Axes>"
      ]
     },
     "metadata": {
      "needs_background": "light"
     },
     "output_type": "display_data"
    }
   ],
   "source": [
    "# crea diagramas de caja de la variable 'price'\n",
    "vehicles.boxplot(column='price')\n",
    "plt.title('Distribución del Precio de los vehículos')\n",
    "plt.show()"
   ]
  },
  {
   "cell_type": "markdown",
   "metadata": {},
   "source": [
    "- Podemos ver que hay varios valores fuera de los valores medios de nuestra caja. Con el histograma podiamos ver que los valores se centraban alrededor de 5,000; sin embargo, los bigotes resultaron ser asimétricos con respecto a la caja: el bigote inferior es 0, mientras que el bigote superior está por encima el límite superior de la caja."
   ]
  },
  {
   "cell_type": "markdown",
   "metadata": {},
   "source": [
    "**- Parámatro: 'car_age'**"
   ]
  },
  {
   "cell_type": "code",
   "execution_count": 172,
   "metadata": {},
   "outputs": [
    {
     "data": {
      "image/png": "[encoded data removed]",
      "text/plain": [
       "<Figure size 432x288 with 1 Axes>"
      ]
     },
     "metadata": {
      "needs_background": "light"
     },
     "output_type": "display_data"
    }
   ],
   "source": [
    "# crea diagramas de caja de la variable 'car_age'\n",
    "vehicles.boxplot(column='car_age')\n",
    "plt.title('Distribución de la edad de los vehículos')\n",
    "plt.show()"
   ]
  },
  {
   "cell_type": "markdown",
   "metadata": {},
   "source": [
    "**- Parámatro: 'odometer'**"
   ]
  },
  {
   "cell_type": "code",
   "execution_count": 173,
   "metadata": {},
   "outputs": [
    {
     "data": {
      "image/png": "[encoded data removed]",
      "text/plain": [
       "<Figure size 432x288 with 1 Axes>"
      ]
     },
     "metadata": {
      "needs_background": "light"
     },
     "output_type": "display_data"
    }
   ],
   "source": [
    "# crea diagramas de caja de la variable 'odometer'\n",
    "vehicles.boxplot(column='odometer')\n",
    "plt.title('Distribución del kilometraje de los vehículos')\n",
    "plt.show()"
   ]
  },
  {
   "cell_type": "markdown",
   "metadata": {},
   "source": [
    "## Estudiar parámetros principales y sus valores atípicos\n"
   ]
  },
  {
   "cell_type": "markdown",
   "metadata": {},
   "source": [
    "\n",
    "Vamos a calcular el rango intercuartílico (IQR), es decir,  detectar los valores atípicos, en el rango entre el primer y el tercer cuartil (los bordes de la caja)."
   ]
  },
  {
   "cell_type": "markdown",
   "metadata": {},
   "source": [
    "**Calcular IQR de las variables**\n"
   ]
  },
  {
   "cell_type": "code",
   "execution_count": 174,
   "metadata": {},
   "outputs": [
    {
     "name": "stdout",
     "output_type": "stream",
     "text": [
      "IQR_price: 11839.0\n",
      "IQR_car_age: 7.479961943092603\n",
      "IQR_odometer: 72153.0\n"
     ]
    }
   ],
   "source": [
    "# Opción #1\n",
    "IQR_price = (vehicles['price'].quantile(0.75))-(vehicles['price'].quantile(0.25))\n",
    "print('IQR_price:', IQR_price)\n",
    "IQR_car_age = (vehicles['car_age'].quantile(0.75))-(vehicles['car_age'].quantile(0.25))\n",
    "print('IQR_car_age:', IQR_car_age)\n",
    "IQR_odometer = (vehicles['odometer'].quantile(0.75))-(vehicles['odometer'].quantile(0.25))\n",
    "print('IQR_odometer:', IQR_odometer)"
   ]
  },
  {
   "cell_type": "code",
   "execution_count": 175,
   "metadata": {},
   "outputs": [
    {
     "name": "stdout",
     "output_type": "stream",
     "text": [
      "IQR_price: 11839.0\n",
      "IQR_car_age: 7.479961943092603\n",
      "IQR_odometer: 72153.0\n"
     ]
    }
   ],
   "source": [
    "# Opción #2\n",
    "def calcular_iqr(data, columna):\n",
    "    q3 = data[columna].quantile(0.75)\n",
    "    q1 = data[columna].quantile(0.25)\n",
    "    iqr = q3 - q1\n",
    "    return iqr\n",
    "\n",
    "columnas = ['price', 'car_age', 'odometer']\n",
    "\n",
    "for columna in columnas:\n",
    "    iqr = calcular_iqr(vehicles, columna)\n",
    "    print('IQR_' + columna + ':', iqr)"
   ]
  },
  {
   "cell_type": "markdown",
   "metadata": {},
   "source": [
    "**Determina los límites inferiores para valores atípicos**"
   ]
  },
  {
   "cell_type": "code",
   "execution_count": 176,
   "metadata": {},
   "outputs": [
    {
     "name": "stdout",
     "output_type": "stream",
     "text": [
      "Límite inferior del precio: -12758.5\n",
      "Límite inferior de la edad del carro: -6.497053327583729\n",
      "Límite inferior del kilometraje: -32561.5\n"
     ]
    }
   ],
   "source": [
    "# Opción 1\n",
    "price_inf = vehicles['price'].quantile(0.25)-1.5*IQR_price\n",
    "print('Límite inferior del precio:', price_inf)\n",
    "car_age_inf = vehicles['car_age'].quantile(0.25)-1.5*IQR_car_age\n",
    "print('Límite inferior de la edad del carro:', car_age_inf)\n",
    "odometer_inf = vehicles['odometer'].quantile(0.25)-1.5*IQR_odometer\n",
    "print('Límite inferior del kilometraje:', odometer_inf)"
   ]
  },
  {
   "cell_type": "code",
   "execution_count": 177,
   "metadata": {},
   "outputs": [
    {
     "name": "stdout",
     "output_type": "stream",
     "text": [
      "Límite inferior de price: -12758.5\n",
      "Límite inferior de car_age: -6.497053327583729\n",
      "Límite inferior de odometer: -32561.5\n"
     ]
    }
   ],
   "source": [
    "# Opción 2\n",
    "def calcular_limite_inferior(data, columna, iqr):\n",
    "    limite_inferior = data[columna].quantile(0.25) - 1.5 * iqr\n",
    "    return limite_inferior\n",
    "\n",
    "parametros = ['price', 'car_age', 'odometer']\n",
    "\n",
    "for parametro in parametros:\n",
    "    iqr = calcular_iqr(vehicles, parametro)\n",
    "    limite_inferior = calcular_limite_inferior(vehicles, parametro, iqr)\n",
    "    print('Límite inferior de', parametro + ':', limite_inferior)"
   ]
  },
  {
   "cell_type": "markdown",
   "metadata": {},
   "source": [
    "**Observación:**\n",
    "\n",
    "Se hace evidente la naturaleza atípica de los datos en estos 3 parámetros de nuestro DataFrame. \n",
    "El precio, la edad del carro y el kilometraje no pueden ser de naturaleza negativa."
   ]
  },
  {
   "cell_type": "markdown",
   "metadata": {},
   "source": [
    "**Determinar los límites superiores para valores atípicos**\n"
   ]
  },
  {
   "cell_type": "code",
   "execution_count": 178,
   "metadata": {},
   "outputs": [
    {
     "name": "stdout",
     "output_type": "stream",
     "text": [
      "Límite superior de price: 34597.5\n",
      "Límite superior de car_age: 23.422794444786682\n",
      "Límite superior de odometer: 256050.5\n"
     ]
    }
   ],
   "source": [
    "def calcular_limite_superior(data, columna, iqr):\n",
    "    limite_superior = data[columna].quantile(0.75) + 1.5 * iqr\n",
    "    return limite_superior\n",
    "\n",
    "parametros = ['price', 'car_age', 'odometer']\n",
    "\n",
    "for parametro in parametros:\n",
    "    iqr = calcular_iqr(vehicles, parametro)\n",
    "    limite_superior = calcular_limite_superior(vehicles, parametro, iqr)\n",
    "    print('Límite superior de', parametro + ':', limite_superior)"
   ]
  },
  {
   "cell_type": "code",
   "execution_count": 179,
   "metadata": {},
   "outputs": [],
   "source": [
    "# Almacena los datos sin valores atípicos en un DataFrame separado\n",
    "vehicles_filtered= vehicles.query('(price<@price_sup) and (car_age<@car_age_sup) and (odometer<@odometer_sup)')"
   ]
  },
  {
   "cell_type": "code",
   "execution_count": 180,
   "metadata": {},
   "outputs": [
    {
     "name": "stdout",
     "output_type": "stream",
     "text": [
      "<class 'pandas.core.frame.DataFrame'>\n",
      "Int64Index: 48049 entries, 0 to 51524\n",
      "Data columns (total 18 columns):\n",
      " #   Column        Non-Null Count  Dtype         \n",
      "---  ------        --------------  -----         \n",
      " 0   price         48049 non-null  int64         \n",
      " 1   model_year    48049 non-null  float64       \n",
      " 2   model         48049 non-null  object        \n",
      " 3   condition     48049 non-null  int64         \n",
      " 4   cylinders     48049 non-null  int64         \n",
      " 5   fuel          48049 non-null  object        \n",
      " 6   odometer      48049 non-null  int64         \n",
      " 7   transmission  48049 non-null  object        \n",
      " 8   type          48049 non-null  object        \n",
      " 9   paint_color   48049 non-null  object        \n",
      " 10  is_4wd        48049 non-null  bool          \n",
      " 11  date_posted   48049 non-null  datetime64[ns]\n",
      " 12  days_listed   48049 non-null  int64         \n",
      " 13  year_posted   48049 non-null  int64         \n",
      " 14  month_posted  48049 non-null  int64         \n",
      " 15  day_posted    48049 non-null  int64         \n",
      " 16  car_age       48049 non-null  float64       \n",
      " 17  car_miles     48049 non-null  float64       \n",
      "dtypes: bool(1), datetime64[ns](1), float64(3), int64(8), object(5)\n",
      "memory usage: 6.6+ MB\n"
     ]
    },
    {
     "data": {
      "text/html": [
       "<div>\n",
       "<style scoped>\n",
       "    .dataframe tbody tr th:only-of-type {\n",
       "        vertical-align: middle;\n",
       "    }\n",
       "\n",
       "    .dataframe tbody tr th {\n",
       "        vertical-align: top;\n",
       "    }\n",
       "\n",
       "    .dataframe thead th {\n",
       "        text-align: right;\n",
       "    }\n",
       "</style>\n",
       "<table border=\"1\" class=\"dataframe\">\n",
       "  <thead>\n",
       "    <tr style=\"text-align: right;\">\n",
       "      <th></th>\n",
       "      <th>price</th>\n",
       "      <th>model_year</th>\n",
       "      <th>model</th>\n",
       "      <th>condition</th>\n",
       "      <th>cylinders</th>\n",
       "      <th>fuel</th>\n",
       "      <th>odometer</th>\n",
       "      <th>transmission</th>\n",
       "      <th>type</th>\n",
       "      <th>paint_color</th>\n",
       "      <th>is_4wd</th>\n",
       "      <th>date_posted</th>\n",
       "      <th>days_listed</th>\n",
       "      <th>year_posted</th>\n",
       "      <th>month_posted</th>\n",
       "      <th>day_posted</th>\n",
       "      <th>car_age</th>\n",
       "      <th>car_miles</th>\n",
       "    </tr>\n",
       "  </thead>\n",
       "  <tbody>\n",
       "    <tr>\n",
       "      <th>0</th>\n",
       "      <td>9400</td>\n",
       "      <td>2011.0</td>\n",
       "      <td>bmw x5</td>\n",
       "      <td>2</td>\n",
       "      <td>6</td>\n",
       "      <td>gas</td>\n",
       "      <td>145000</td>\n",
       "      <td>automatic</td>\n",
       "      <td>SUV</td>\n",
       "      <td>others</td>\n",
       "      <td>True</td>\n",
       "      <td>2018-06-23</td>\n",
       "      <td>19</td>\n",
       "      <td>2018</td>\n",
       "      <td>6</td>\n",
       "      <td>5</td>\n",
       "      <td>7.474486</td>\n",
       "      <td>19399.326923</td>\n",
       "    </tr>\n",
       "    <tr>\n",
       "      <th>1</th>\n",
       "      <td>25500</td>\n",
       "      <td>2011.0</td>\n",
       "      <td>ford f-150</td>\n",
       "      <td>2</td>\n",
       "      <td>6</td>\n",
       "      <td>gas</td>\n",
       "      <td>88705</td>\n",
       "      <td>automatic</td>\n",
       "      <td>pickup</td>\n",
       "      <td>white</td>\n",
       "      <td>True</td>\n",
       "      <td>2018-10-19</td>\n",
       "      <td>50</td>\n",
       "      <td>2018</td>\n",
       "      <td>10</td>\n",
       "      <td>4</td>\n",
       "      <td>7.797559</td>\n",
       "      <td>11375.995773</td>\n",
       "    </tr>\n",
       "    <tr>\n",
       "      <th>2</th>\n",
       "      <td>5500</td>\n",
       "      <td>2013.0</td>\n",
       "      <td>hyundai sonata</td>\n",
       "      <td>4</td>\n",
       "      <td>4</td>\n",
       "      <td>gas</td>\n",
       "      <td>110000</td>\n",
       "      <td>automatic</td>\n",
       "      <td>sedan</td>\n",
       "      <td>red</td>\n",
       "      <td>False</td>\n",
       "      <td>2019-02-07</td>\n",
       "      <td>79</td>\n",
       "      <td>2019</td>\n",
       "      <td>2</td>\n",
       "      <td>3</td>\n",
       "      <td>6.100057</td>\n",
       "      <td>18032.618941</td>\n",
       "    </tr>\n",
       "    <tr>\n",
       "      <th>3</th>\n",
       "      <td>1500</td>\n",
       "      <td>2003.0</td>\n",
       "      <td>ford f-150</td>\n",
       "      <td>1</td>\n",
       "      <td>8</td>\n",
       "      <td>gas</td>\n",
       "      <td>181613</td>\n",
       "      <td>automatic</td>\n",
       "      <td>pickup</td>\n",
       "      <td>others</td>\n",
       "      <td>False</td>\n",
       "      <td>2019-03-22</td>\n",
       "      <td>9</td>\n",
       "      <td>2019</td>\n",
       "      <td>3</td>\n",
       "      <td>4</td>\n",
       "      <td>16.219361</td>\n",
       "      <td>11197.296785</td>\n",
       "    </tr>\n",
       "    <tr>\n",
       "      <th>4</th>\n",
       "      <td>14900</td>\n",
       "      <td>2017.0</td>\n",
       "      <td>chrysler 200</td>\n",
       "      <td>3</td>\n",
       "      <td>4</td>\n",
       "      <td>gas</td>\n",
       "      <td>80903</td>\n",
       "      <td>automatic</td>\n",
       "      <td>sedan</td>\n",
       "      <td>black</td>\n",
       "      <td>False</td>\n",
       "      <td>2019-04-02</td>\n",
       "      <td>28</td>\n",
       "      <td>2019</td>\n",
       "      <td>4</td>\n",
       "      <td>1</td>\n",
       "      <td>2.247822</td>\n",
       "      <td>35991.734443</td>\n",
       "    </tr>\n",
       "  </tbody>\n",
       "</table>\n",
       "</div>"
      ],
      "text/plain": [
       "   price  model_year           model  condition  cylinders fuel  odometer  \\\n",
       "0   9400      2011.0          bmw x5          2          6  gas    145000   \n",
       "1  25500      2011.0      ford f-150          2          6  gas     88705   \n",
       "2   5500      2013.0  hyundai sonata          4          4  gas    110000   \n",
       "3   1500      2003.0      ford f-150          1          8  gas    181613   \n",
       "4  14900      2017.0    chrysler 200          3          4  gas     80903   \n",
       "\n",
       "  transmission    type paint_color  is_4wd date_posted  days_listed  \\\n",
       "0    automatic     SUV      others    True  2018-06-23           19   \n",
       "1    automatic  pickup       white    True  2018-10-19           50   \n",
       "2    automatic   sedan         red   False  2019-02-07           79   \n",
       "3    automatic  pickup      others   False  2019-03-22            9   \n",
       "4    automatic   sedan       black   False  2019-04-02           28   \n",
       "\n",
       "   year_posted  month_posted  day_posted    car_age     car_miles  \n",
       "0         2018             6           5   7.474486  19399.326923  \n",
       "1         2018            10           4   7.797559  11375.995773  \n",
       "2         2019             2           3   6.100057  18032.618941  \n",
       "3         2019             3           4  16.219361  11197.296785  \n",
       "4         2019             4           1   2.247822  35991.734443  "
      ]
     },
     "execution_count": 180,
     "metadata": {},
     "output_type": "execute_result"
    }
   ],
   "source": [
    "#Mostra nuevo DataFrame filtrado\n",
    "vehicles_filtered.info()\n",
    "vehicles_filtered.head(5)"
   ]
  },
  {
   "cell_type": "markdown",
   "metadata": {},
   "source": [
    "## Estudiar parámetros principales sin valores atípicos"
   ]
  },
  {
   "cell_type": "markdown",
   "metadata": {},
   "source": [
    "**Histogramas de caja para cada uno de los parámetros en nuevo DataFrame:**"
   ]
  },
  {
   "cell_type": "code",
   "execution_count": 181,
   "metadata": {},
   "outputs": [],
   "source": [
    "# Lista de nombres de los parámetros principales\n",
    "prin_parameter_filtered = ['price', 'car_age', 'odometer']"
   ]
  },
  {
   "cell_type": "code",
   "execution_count": 182,
   "metadata": {},
   "outputs": [
    {
     "data": {
      "image/png": "[encoded data removed]",
      "text/plain": [
       "<Figure size 432x288 with 1 Axes>"
      ]
     },
     "metadata": {
      "needs_background": "light"
     },
     "output_type": "display_data"
    },
    {
     "data": {
      "image/png": "[encoded data removed]",
      "text/plain": [
       "<Figure size 432x288 with 1 Axes>"
      ]
     },
     "metadata": {
      "needs_background": "light"
     },
     "output_type": "display_data"
    },
    {
     "data": {
      "image/png": "[encoded data removed]",
      "text/plain": [
       "<Figure size 432x288 with 1 Axes>"
      ]
     },
     "metadata": {
      "needs_background": "light"
     },
     "output_type": "display_data"
    }
   ],
   "source": [
    "# Generar histogramas para cada parámetro\n",
    "for column in prin_parameter_filtered:\n",
    "    vehicles_filtered[column].hist()\n",
    "    plt.title('Histograma de ' + column)\n",
    "    plt.xlabel(column)\n",
    "    plt.ylabel('Frecuencia')\n",
    "    plt.show()"
   ]
  },
  {
   "cell_type": "markdown",
   "metadata": {},
   "source": [
    "**Observaciones:**\n",
    "\n",
    "1. Para el parámetro 'price' el nuevo histograma hace evidente la diferencia con el DataFrame original, y sus valores extremos. Ahora hay menos valores atípicos en el límite superior y se hace evidente un pico alrededor de 6000.\n",
    "2. Para el parámetro 'price' el valor máximo está alredor de 34,00, lo que representa el precio más alto entre los vehículos en el conjunto de datos.\n",
    "3. Al realizar el histograma usando el nuevo DataFrame para el parámetro 'car_age' , se hace evidente un pico entre 6 y 8 años, pero con una concentración fuerte de los datos en esta región igualemente por lo que podríamos inferir que la media de nuestros datos se encuentra en este rango.\n",
    "4. En el parámetro 'car_age' valor mínimo es 0, lo cual podría indicar automóviles nuevos.\n",
    "5. El valor máximo pasa los 20 años, lo que indica que tenemos vehículos antiguos o viejos.\n",
    "6. En el parámetro 'odometer' se hace evidente un pico entre 100mil y 150mil millas. Lo que indica que la mitad de los vehículos tienen un odómetro igual o inferior a ese valor.\n",
    "7. En el parámetro 'odometer' el valor mínimo para \"odometer\" es 0, lo que podría posiblemente indicar vehículos nuevos sin uso registrado en el odómetro. "
   ]
  },
  {
   "cell_type": "markdown",
   "metadata": {},
   "source": [
    "## Periodo de colocación de los anuncios"
   ]
  },
  {
   "cell_type": "markdown",
   "metadata": {},
   "source": [
    "A continuación se muestra cuántos días los anuncios fueron mostrados (days_listed), su media y su mediana. También proveer un analisis de los anuncios que se eliminaron rápidamente y los anuncios que se publicaron durante un tiempo inusualmente largo."
   ]
  },
  {
   "cell_type": "code",
   "execution_count": 183,
   "metadata": {},
   "outputs": [
    {
     "data": {
      "image/png": "[encoded data removed]",
      "text/plain": [
       "<Figure size 432x288 with 1 Axes>"
      ]
     },
     "metadata": {
      "needs_background": "light"
     },
     "output_type": "display_data"
    }
   ],
   "source": [
    "# Parámetro 'days_listed'\n",
    "plt.hist(vehicles_filtered['days_listed'], bins=100)\n",
    "plt.title('Periodo de colocación de los anuncios')\n",
    "plt.ylabel('Vehículos')\n",
    "plt.xlabel('Dias de Anuncio');"
   ]
  },
  {
   "cell_type": "markdown",
   "metadata": {},
   "source": [
    "**Observación:**\n",
    "\n",
    "El histograma anterior revela anuncios que pasan mucho tiempo antes de ser eliminados, indicado por la cola larga a la derecha."
   ]
  },
  {
   "cell_type": "code",
   "execution_count": 184,
   "metadata": {},
   "outputs": [
    {
     "data": {
      "text/plain": [
       "count    48049.000000\n",
       "mean        39.546005\n",
       "std         28.213336\n",
       "min          0.000000\n",
       "25%         19.000000\n",
       "50%         33.000000\n",
       "75%         53.000000\n",
       "max        271.000000\n",
       "Name: days_listed, dtype: float64"
      ]
     },
     "execution_count": 184,
     "metadata": {},
     "output_type": "execute_result"
    }
   ],
   "source": [
    "vehicles_filtered['days_listed'].describe()"
   ]
  },
  {
   "cell_type": "markdown",
   "metadata": {},
   "source": [
    "**Anuncios que pasan mucho tiempo antes de ser eliminados:**"
   ]
  },
  {
   "cell_type": "code",
   "execution_count": 185,
   "metadata": {},
   "outputs": [
    {
     "data": {
      "text/html": [
       "<div>\n",
       "<style scoped>\n",
       "    .dataframe tbody tr th:only-of-type {\n",
       "        vertical-align: middle;\n",
       "    }\n",
       "\n",
       "    .dataframe tbody tr th {\n",
       "        vertical-align: top;\n",
       "    }\n",
       "\n",
       "    .dataframe thead th {\n",
       "        text-align: right;\n",
       "    }\n",
       "</style>\n",
       "<table border=\"1\" class=\"dataframe\">\n",
       "  <thead>\n",
       "    <tr style=\"text-align: right;\">\n",
       "      <th></th>\n",
       "      <th>price</th>\n",
       "      <th>model_year</th>\n",
       "      <th>model</th>\n",
       "      <th>condition</th>\n",
       "      <th>cylinders</th>\n",
       "      <th>fuel</th>\n",
       "      <th>odometer</th>\n",
       "      <th>transmission</th>\n",
       "      <th>type</th>\n",
       "      <th>paint_color</th>\n",
       "      <th>is_4wd</th>\n",
       "      <th>date_posted</th>\n",
       "      <th>days_listed</th>\n",
       "      <th>year_posted</th>\n",
       "      <th>month_posted</th>\n",
       "      <th>day_posted</th>\n",
       "      <th>car_age</th>\n",
       "      <th>car_miles</th>\n",
       "    </tr>\n",
       "  </thead>\n",
       "  <tbody>\n",
       "    <tr>\n",
       "      <th>4360</th>\n",
       "      <td>5200</td>\n",
       "      <td>2011.0</td>\n",
       "      <td>chevrolet impala</td>\n",
       "      <td>4</td>\n",
       "      <td>6</td>\n",
       "      <td>gas</td>\n",
       "      <td>122000</td>\n",
       "      <td>automatic</td>\n",
       "      <td>sedan</td>\n",
       "      <td>others</td>\n",
       "      <td>False</td>\n",
       "      <td>2018-05-24</td>\n",
       "      <td>271</td>\n",
       "      <td>2018</td>\n",
       "      <td>5</td>\n",
       "      <td>3</td>\n",
       "      <td>7.392349</td>\n",
       "      <td>16503.55</td>\n",
       "    </tr>\n",
       "  </tbody>\n",
       "</table>\n",
       "</div>"
      ],
      "text/plain": [
       "      price  model_year             model  condition  cylinders fuel  \\\n",
       "4360   5200      2011.0  chevrolet impala          4          6  gas   \n",
       "\n",
       "      odometer transmission   type paint_color  is_4wd date_posted  \\\n",
       "4360    122000    automatic  sedan      others   False  2018-05-24   \n",
       "\n",
       "      days_listed  year_posted  month_posted  day_posted   car_age  car_miles  \n",
       "4360          271         2018             5           3  7.392349   16503.55  "
      ]
     },
     "execution_count": 185,
     "metadata": {},
     "output_type": "execute_result"
    }
   ],
   "source": [
    "# Valor máximo en days_listed\n",
    "days_listed_max= vehicles_filtered[vehicles_filtered['days_listed'] == vehicles_filtered['days_listed'].max()]\n",
    "days_listed_max.head()"
   ]
  },
  {
   "cell_type": "markdown",
   "metadata": {},
   "source": [
    "**Observaciones:**\n",
    "\n",
    "- En promedio, los anuncios permanecen durante 39,5 días antes de ser eliminados. Por otro lado, el 50% de los anuncios se eliminan dentro de los 33,0 días posteriores a su publicación.\n",
    "Y como mencionamos anteriormente, el histograna revelo que hay anuncios que pasan mucho tiempo antes de ser eliminados. Aquí podemos observas un valor máximo de 271 días. \n",
    "\n",
    "- Descubrimos que el chevrolet impala del 2011 con 16503.55 millas duro publicado por 271 días."
   ]
  },
  {
   "cell_type": "markdown",
   "metadata": {},
   "source": [
    "**Anuncios que se eliminaron rápidamente:**"
   ]
  },
  {
   "cell_type": "code",
   "execution_count": 186,
   "metadata": {},
   "outputs": [
    {
     "data": {
      "image/png": "[encoded data removed]",
      "text/plain": [
       "<Figure size 432x288 with 1 Axes>"
      ]
     },
     "metadata": {
      "needs_background": "light"
     },
     "output_type": "display_data"
    }
   ],
   "source": [
    "# Anuncios que se eliminaron rápidamente, el mismo día o al día siguiente\n",
    "days_listed_min = vehicles_filtered.query('-1 <days_listed < 2')\n",
    "days_listed_min.hist('days_listed', bins=2)\n",
    "plt.title('Periodo de colocación de los anuncios')\n",
    "plt.ylabel('Vehículos')\n",
    "plt.xlabel('Dias de Anuncio');"
   ]
  },
  {
   "cell_type": "code",
   "execution_count": 187,
   "metadata": {},
   "outputs": [
    {
     "name": "stdout",
     "output_type": "stream",
     "text": [
      "216 anuncios han eliminados dentro de 1 día de la publicación.\n"
     ]
    }
   ],
   "source": [
    "# Valor mínimo en days_listed\n",
    "days_listed_min= len(vehicles_filtered[vehicles_filtered['days_listed']<=1])\n",
    "print(f'{days_listed_min} anuncios han eliminados dentro de 1 día de la publicación.')"
   ]
  },
  {
   "cell_type": "markdown",
   "metadata": {},
   "source": [
    "## Precio promedio por cada tipo de vehículo"
   ]
  },
  {
   "cell_type": "markdown",
   "metadata": {},
   "source": [
    "Comparando el número de anuncios y el precio medio de cada tipo de vehículo. Podemos crear un gráfico que represente la relación entre la cantidad de anuncios y los tipos de vehículos. Elegiremos los dos tipos con más anuncios.\n",
    "\n",
    "- Primero, veamos qué tipo de vehículo tiene el precio más alto, en promedio."
   ]
  },
  {
   "cell_type": "code",
   "execution_count": 188,
   "metadata": {},
   "outputs": [
    {
     "data": {
      "image/png": "[encoded data removed]",
      "text/plain": [
       "<Figure size 432x288 with 1 Axes>"
      ]
     },
     "metadata": {
      "needs_background": "light"
     },
     "output_type": "display_data"
    }
   ],
   "source": [
    "type_grouped = vehicles_filtered.pivot_table(index='type', values='price', aggfunc=['count','mean'])\n",
    "\n",
    "type_grouped['mean'].sort_values(by='price', ascending=False).plot(kind='bar', legend=False)\n",
    "plt.title('Precio medio por tipo de vehículo')\n",
    "plt.ylabel('Precio medio');"
   ]
  },
  {
   "cell_type": "markdown",
   "metadata": {},
   "source": [
    "**Observación:**\n",
    "\n",
    "De acuerdo al gráfico vemos que Bus y Truck (camionetas) son los tipos de vehículos que cuestan más en promedio.\n",
    "\n",
    "- Ahora trazaremos un gráfico que muestre la dependencia de la cantidad de anuncios en el tipo de vehículo e identificaremos los dos tipos con la mayor cantidad de anuncios."
   ]
  },
  {
   "cell_type": "code",
   "execution_count": 189,
   "metadata": {},
   "outputs": [
    {
     "data": {
      "image/png": "[encoded data removed]",
      "text/plain": [
       "<Figure size 432x288 with 1 Axes>"
      ]
     },
     "metadata": {
      "needs_background": "light"
     },
     "output_type": "display_data"
    }
   ],
   "source": [
    "type_grouped['count'].sort_values(by='price', ascending=False).plot(kind='bar', legend=False)\n",
    "plt.title('Number of ads per vehicle type')\n",
    "plt.ylabel('number of ads');"
   ]
  },
  {
   "cell_type": "markdown",
   "metadata": {},
   "source": [
    "**Observación:**\n",
    "\n",
    "De la gráfica anterior encontramos los vehículos que cuestan más en promedio, y ahora observamos que de estos vehículos, los dos tipos de vehículos que tienen la mayoria de anuncios o que se anuncian más frecuentemente son 'Sedan'y 'SUV'."
   ]
  },
  {
   "cell_type": "markdown",
   "metadata": {},
   "source": [
    "## Factores de precio"
   ]
  },
  {
   "cell_type": "markdown",
   "metadata": {},
   "source": [
    "A continuación vamos a investigar ¿qué factores impactan más sobre el precio? de los tipos más populares que hemos detectado en la fase anterior y estudiaremos si el precio depende de la edad, kilometraje, condición, tipo de transmisión y color. \n",
    "\n",
    "Para las variables categóricas (tipo de transmisión y color) trazaremos gráficos de caja y bigotes. Para las otras variable crearemos gráficos de dispersión. \n",
    "\n",
    "Como condición para nuestros analices de variables categóricas, nuestros datos deben tener al menos 50 anuncios. "
   ]
  },
  {
   "cell_type": "code",
   "execution_count": 190,
   "metadata": {},
   "outputs": [
    {
     "data": {
      "text/html": [
       "<div>\n",
       "<style scoped>\n",
       "    .dataframe tbody tr th:only-of-type {\n",
       "        vertical-align: middle;\n",
       "    }\n",
       "\n",
       "    .dataframe tbody tr th {\n",
       "        vertical-align: top;\n",
       "    }\n",
       "\n",
       "    .dataframe thead th {\n",
       "        text-align: right;\n",
       "    }\n",
       "</style>\n",
       "<table border=\"1\" class=\"dataframe\">\n",
       "  <thead>\n",
       "    <tr style=\"text-align: right;\">\n",
       "      <th></th>\n",
       "      <th>price</th>\n",
       "      <th>model_year</th>\n",
       "      <th>model</th>\n",
       "      <th>condition</th>\n",
       "      <th>cylinders</th>\n",
       "      <th>fuel</th>\n",
       "      <th>odometer</th>\n",
       "      <th>transmission</th>\n",
       "      <th>type</th>\n",
       "      <th>paint_color</th>\n",
       "      <th>is_4wd</th>\n",
       "      <th>date_posted</th>\n",
       "      <th>days_listed</th>\n",
       "      <th>year_posted</th>\n",
       "      <th>month_posted</th>\n",
       "      <th>day_posted</th>\n",
       "      <th>car_age</th>\n",
       "      <th>car_miles</th>\n",
       "    </tr>\n",
       "  </thead>\n",
       "  <tbody>\n",
       "    <tr>\n",
       "      <th>0</th>\n",
       "      <td>9400</td>\n",
       "      <td>2011.0</td>\n",
       "      <td>bmw x5</td>\n",
       "      <td>2</td>\n",
       "      <td>6</td>\n",
       "      <td>gas</td>\n",
       "      <td>145000</td>\n",
       "      <td>automatic</td>\n",
       "      <td>SUV</td>\n",
       "      <td>others</td>\n",
       "      <td>True</td>\n",
       "      <td>2018-06-23</td>\n",
       "      <td>19</td>\n",
       "      <td>2018</td>\n",
       "      <td>6</td>\n",
       "      <td>5</td>\n",
       "      <td>7.474486</td>\n",
       "      <td>19399.326923</td>\n",
       "    </tr>\n",
       "    <tr>\n",
       "      <th>2</th>\n",
       "      <td>5500</td>\n",
       "      <td>2013.0</td>\n",
       "      <td>hyundai sonata</td>\n",
       "      <td>4</td>\n",
       "      <td>4</td>\n",
       "      <td>gas</td>\n",
       "      <td>110000</td>\n",
       "      <td>automatic</td>\n",
       "      <td>sedan</td>\n",
       "      <td>red</td>\n",
       "      <td>False</td>\n",
       "      <td>2019-02-07</td>\n",
       "      <td>79</td>\n",
       "      <td>2019</td>\n",
       "      <td>2</td>\n",
       "      <td>3</td>\n",
       "      <td>6.100057</td>\n",
       "      <td>18032.618941</td>\n",
       "    </tr>\n",
       "    <tr>\n",
       "      <th>4</th>\n",
       "      <td>14900</td>\n",
       "      <td>2017.0</td>\n",
       "      <td>chrysler 200</td>\n",
       "      <td>3</td>\n",
       "      <td>4</td>\n",
       "      <td>gas</td>\n",
       "      <td>80903</td>\n",
       "      <td>automatic</td>\n",
       "      <td>sedan</td>\n",
       "      <td>black</td>\n",
       "      <td>False</td>\n",
       "      <td>2019-04-02</td>\n",
       "      <td>28</td>\n",
       "      <td>2019</td>\n",
       "      <td>4</td>\n",
       "      <td>1</td>\n",
       "      <td>2.247822</td>\n",
       "      <td>35991.734443</td>\n",
       "    </tr>\n",
       "    <tr>\n",
       "      <th>5</th>\n",
       "      <td>14990</td>\n",
       "      <td>2014.0</td>\n",
       "      <td>chrysler 300</td>\n",
       "      <td>3</td>\n",
       "      <td>6</td>\n",
       "      <td>gas</td>\n",
       "      <td>57954</td>\n",
       "      <td>automatic</td>\n",
       "      <td>sedan</td>\n",
       "      <td>black</td>\n",
       "      <td>True</td>\n",
       "      <td>2018-06-20</td>\n",
       "      <td>15</td>\n",
       "      <td>2018</td>\n",
       "      <td>6</td>\n",
       "      <td>2</td>\n",
       "      <td>4.465526</td>\n",
       "      <td>12978.089421</td>\n",
       "    </tr>\n",
       "    <tr>\n",
       "      <th>6</th>\n",
       "      <td>12990</td>\n",
       "      <td>2015.0</td>\n",
       "      <td>toyota camry</td>\n",
       "      <td>3</td>\n",
       "      <td>4</td>\n",
       "      <td>gas</td>\n",
       "      <td>79212</td>\n",
       "      <td>automatic</td>\n",
       "      <td>sedan</td>\n",
       "      <td>white</td>\n",
       "      <td>False</td>\n",
       "      <td>2018-12-27</td>\n",
       "      <td>73</td>\n",
       "      <td>2018</td>\n",
       "      <td>12</td>\n",
       "      <td>3</td>\n",
       "      <td>3.986393</td>\n",
       "      <td>19870.596779</td>\n",
       "    </tr>\n",
       "  </tbody>\n",
       "</table>\n",
       "</div>"
      ],
      "text/plain": [
       "   price  model_year           model  condition  cylinders fuel  odometer  \\\n",
       "0   9400      2011.0          bmw x5          2          6  gas    145000   \n",
       "2   5500      2013.0  hyundai sonata          4          4  gas    110000   \n",
       "4  14900      2017.0    chrysler 200          3          4  gas     80903   \n",
       "5  14990      2014.0    chrysler 300          3          6  gas     57954   \n",
       "6  12990      2015.0    toyota camry          3          4  gas     79212   \n",
       "\n",
       "  transmission   type paint_color  is_4wd date_posted  days_listed  \\\n",
       "0    automatic    SUV      others    True  2018-06-23           19   \n",
       "2    automatic  sedan         red   False  2019-02-07           79   \n",
       "4    automatic  sedan       black   False  2019-04-02           28   \n",
       "5    automatic  sedan       black    True  2018-06-20           15   \n",
       "6    automatic  sedan       white   False  2018-12-27           73   \n",
       "\n",
       "   year_posted  month_posted  day_posted   car_age     car_miles  \n",
       "0         2018             6           5  7.474486  19399.326923  \n",
       "2         2019             2           3  6.100057  18032.618941  \n",
       "4         2019             4           1  2.247822  35991.734443  \n",
       "5         2018             6           2  4.465526  12978.089421  \n",
       "6         2018            12           3  3.986393  19870.596779  "
      ]
     },
     "execution_count": 190,
     "metadata": {},
     "output_type": "execute_result"
    }
   ],
   "source": [
    "popular_types = vehicles_filtered[vehicles_filtered['type'].isin(['SUV', 'sedan'])]\n",
    "popular_types.head()"
   ]
  },
  {
   "cell_type": "markdown",
   "metadata": {},
   "source": [
    "**- Edad vs. Precio**"
   ]
  },
  {
   "cell_type": "code",
   "execution_count": 191,
   "metadata": {},
   "outputs": [
    {
     "data": {
      "image/png": "[encoded data removed]",
      "text/plain": [
       "<Figure size 720x360 with 1 Axes>"
      ]
     },
     "metadata": {
      "needs_background": "light"
     },
     "output_type": "display_data"
    }
   ],
   "source": [
    "popular_types.plot.scatter(x='car_age', y='price', figsize=(10,5))\n",
    "plt.title('Diagrama de dispersión entre el precio y la edad del vehículo', fontsize = 14);"
   ]
  },
  {
   "cell_type": "markdown",
   "metadata": {},
   "source": [
    "**Conclusión intermedia:**\n",
    "\n",
    "Podemos observar que el precio tiene una correlación negativa con la edad del vehículo. Es decir, cuanto más antiguo es el vehículo, menor es el precio. Los vehículos más nuevos o los vehículos con menos de 5 años tienen un precio más alto, lo cual es una conclusión razonable."
   ]
  },
  {
   "cell_type": "markdown",
   "metadata": {},
   "source": [
    "**- Kilometraje vs. Precio**"
   ]
  },
  {
   "cell_type": "code",
   "execution_count": 192,
   "metadata": {},
   "outputs": [
    {
     "data": {
      "image/png": "[encoded data removed]",
      "text/plain": [
       "<Figure size 720x360 with 1 Axes>"
      ]
     },
     "metadata": {
      "needs_background": "light"
     },
     "output_type": "display_data"
    }
   ],
   "source": [
    "popular_types.plot.scatter(x='odometer', y='price', figsize=(10,5))\n",
    "plt.title('Diagrama de dispersión entre el precio y el kilometraje', fontsize = 14);"
   ]
  },
  {
   "cell_type": "markdown",
   "metadata": {},
   "source": [
    "**Conclusión intermedia:**\n",
    "\n",
    "Podemos observar que el precio tiene una correlación negativa con el kilometraje del vehículo. Es decir, cuanto más kilometros tiene el carro, menor es el precio. Los vehículos más nuevos o los vehículos con menos de 100000 millas tienen un precio más alto, en comparación con vehículos con alto kilometraje, menor es su precio; lo cual es una conclusión razonable."
   ]
  },
  {
   "cell_type": "markdown",
   "metadata": {},
   "source": [
    "**- Estado vs. Precio**"
   ]
  },
  {
   "cell_type": "markdown",
   "metadata": {},
   "source": [
    "Recordemos el significado de la columna estado:\n",
    "\n",
    "- nuevo = 5\n",
    "- como nuevo = 4\n",
    "- excelente = 3\n",
    "- bien = 2\n",
    "- bastante = 1\n",
    "- para rescate = 0"
   ]
  },
  {
   "cell_type": "code",
   "execution_count": 193,
   "metadata": {},
   "outputs": [
    {
     "data": {
      "image/png": "[encoded data removed]",
      "text/plain": [
       "<Figure size 720x360 with 1 Axes>"
      ]
     },
     "metadata": {
      "needs_background": "light"
     },
     "output_type": "display_data"
    }
   ],
   "source": [
    "popular_types.plot.scatter(x='condition', y='price',  figsize=(10,5))\n",
    "plt.title('Diagrama de dispersión entre el precio y condición del vehículo', fontsize=14);"
   ]
  },
  {
   "cell_type": "markdown",
   "metadata": {},
   "source": [
    "**Conclusión intermedia:**\n",
    "\n",
    "- Vemos que cuanto más antiguo es un vehículo, menor es su precio, lo cual es bastante razonable.\n",
    "- Observamos a partir de los datos que los vehículos con condiciones buenas, excelentes y como nuevas tienen el precio más alto que los vehículos con otras condiciones."
   ]
  },
  {
   "cell_type": "markdown",
   "metadata": {},
   "source": [
    "**- Precio vs. Tipo de Transmisión**\n",
    "(Variable categórica)"
   ]
  },
  {
   "cell_type": "code",
   "execution_count": 194,
   "metadata": {},
   "outputs": [
    {
     "data": {
      "text/plain": [
       "automatic    22524\n",
       "manual        1024\n",
       "other          290\n",
       "Name: transmission, dtype: int64"
      ]
     },
     "execution_count": 194,
     "metadata": {},
     "output_type": "execute_result"
    }
   ],
   "source": [
    "# verifiquemos si el tipo de transmisión tiene al menos 50 anuncios.\n",
    "popular_types.transmission.value_counts()"
   ]
  },
  {
   "cell_type": "code",
   "execution_count": 195,
   "metadata": {},
   "outputs": [
    {
     "data": {
      "image/png": "[encoded data removed]",
      "text/plain": [
       "<Figure size 720x360 with 1 Axes>"
      ]
     },
     "metadata": {
      "needs_background": "light"
     },
     "output_type": "display_data"
    }
   ],
   "source": [
    "popular_types.boxplot(by='transmission', column='price', figsize=(10,5))\n",
    "plt.suptitle('')\n",
    "plt.title('Diagrama de cajas y bigotes entre el precio y el tipo de transmisión del vehículo');"
   ]
  },
  {
   "cell_type": "markdown",
   "metadata": {},
   "source": [
    "**Conclusión intermedia:**\n",
    "\n",
    "Vemos que los carros automaticos tienden a ser levemente más costosos, en comparación a un carro manual."
   ]
  },
  {
   "cell_type": "markdown",
   "metadata": {},
   "source": [
    "**- Precio vs. Tipo de Color**\n",
    "(Variable categórica)"
   ]
  },
  {
   "cell_type": "code",
   "execution_count": 196,
   "metadata": {},
   "outputs": [
    {
     "data": {
      "text/plain": [
       "others    4287\n",
       "black     3839\n",
       "silver    3562\n",
       "white     3350\n",
       "grey      2754\n",
       "blue      2226\n",
       "red       1802\n",
       "green      608\n",
       "brown      600\n",
       "custom     593\n",
       "orange      90\n",
       "yellow      66\n",
       "purple      61\n",
       "Name: paint_color, dtype: int64"
      ]
     },
     "execution_count": 196,
     "metadata": {},
     "output_type": "execute_result"
    }
   ],
   "source": [
    "# verifiquemos si el Tipo de Color tiene al menos 50 anuncios.\n",
    "popular_types.paint_color.value_counts()\n"
   ]
  },
  {
   "cell_type": "code",
   "execution_count": 197,
   "metadata": {},
   "outputs": [
    {
     "data": {
      "image/png": "[encoded data removed]",
      "text/plain": [
       "<Figure size 720x360 with 1 Axes>"
      ]
     },
     "metadata": {
      "needs_background": "light"
     },
     "output_type": "display_data"
    }
   ],
   "source": [
    "popular_types.boxplot(by='paint_color', column='price', figsize=(10,5))\n",
    "plt.suptitle('')\n",
    "plt.title('Diagrama de dispersión entre el precio y el color del vehículo');"
   ]
  },
  {
   "cell_type": "markdown",
   "metadata": {},
   "source": [
    "**Conclusión intermedia:**\n",
    "\n",
    "Del diagrama de dispersión entre el precio y el color del vehículo no hay una diferencia clara en el precio según el color, por lo que el color de la pintura no sería un buen predictor del precio."
   ]
  },
  {
   "cell_type": "markdown",
   "metadata": {},
   "source": [
    "**Matriz de correlación:**"
   ]
  },
  {
   "cell_type": "code",
   "execution_count": 198,
   "metadata": {
    "scrolled": true
   },
   "outputs": [
    {
     "name": "stdout",
     "output_type": "stream",
     "text": [
      "                price  model_year  condition  cylinders  odometer  \\\n",
      "price        1.000000    0.511523   0.181289   0.314025 -0.406568   \n",
      "model_year   0.511523    1.000000   0.265021  -0.150754 -0.531182   \n",
      "condition    0.181289    0.265021   1.000000  -0.080816 -0.301138   \n",
      "cylinders    0.314025   -0.150754  -0.080816   1.000000  0.111605   \n",
      "odometer    -0.406568   -0.531182  -0.301138   0.111605  1.000000   \n",
      "days_listed -0.001600   -0.003472   0.000277   0.002619  0.006035   \n",
      "car_age     -0.510746   -0.998255  -0.264357   0.150893  0.528635   \n",
      "car_miles    0.226927    0.506460   0.032070  -0.046044  0.134913   \n",
      "\n",
      "             days_listed   car_age  car_miles  \n",
      "price          -0.001600 -0.510746   0.226927  \n",
      "model_year     -0.003472 -0.998255   0.506460  \n",
      "condition       0.000277 -0.264357   0.032070  \n",
      "cylinders       0.002619  0.150893  -0.046044  \n",
      "odometer        0.006035  0.528635   0.134913  \n",
      "days_listed     1.000000  0.003880  -0.001461  \n",
      "car_age         0.003880  1.000000  -0.508026  \n",
      "car_miles      -0.001461 -0.508026   1.000000  \n"
     ]
    }
   ],
   "source": [
    "variables_numericas = ['price', 'model_year', 'condition', 'cylinders', 'odometer', 'days_listed', 'car_age', 'car_miles']\n",
    "print(vehicles_filtered[variables_numericas].corr())"
   ]
  },
  {
   "cell_type": "markdown",
   "metadata": {},
   "source": [
    "**Conclusión intermedia:**\n",
    "\n",
    "La matriz de correlación trae las principales variables que afectan el precio. La edad del vehículo (car_age) y el kilometraje (odometer) tienen las correlaciones más altas con el precio, pero correlaciones negativas, como debería ser, ya que los vehículos con más años y mayor kilometraje suelen tener los precios de venta más bajos."
   ]
  },
  {
   "cell_type": "markdown",
   "metadata": {},
   "source": [
    "## Conclusión general"
   ]
  },
  {
   "cell_type": "markdown",
   "metadata": {},
   "source": [
    "1. Se hizo evidente que existía valores ausentes en las categorías: model_year, cylinders, odometer, paint_color y is_4wd.\n",
    "\n",
    "2. Aunque la cantidad de valores faltantes en 'model_year' representaba menos del 10% del DataFrame, en lugar de eliminarlos, se optó por reemplazarlos por la mediana utilizando el parámetro 'model' como referencia.\n",
    "\n",
    "3. Nuevamente, se recurrió al modelo del vehículo (model) para completar los valores faltantes en el parámetro de cilindros (cylinders), ya que los modelos son indicativos de la fabricación y las especificaciones del motor.\n",
    "\n",
    "4. Cuando se trata de vehículos, aquellos con un alto kilometraje pueden sufrir depreciación y daños. Con esto en mente, se utilizó la variable \"estado\" (condition) para completar los valores faltantes en el odómetro.\n",
    "\n",
    "5. Dado que \"paint_color\" es una variable categórica y tenía valores faltantes, se optó por reemplazarlos con una nueva categoría denominada \"other\". Esto se debe a que no es posible calcular la mediana de una variable categórica.\n",
    "\n",
    "6. El porcentaje de valores faltantes en la variable is_4wd era de 50.37%  por  lo que se identificó como booleana. Por lo tanto, fue fácil completar o reemplazar estos valores faltantes con ceros.\n",
    "\n",
    "7. Otro análisis que se realizó fue el tratamiento de los valores atípicos. La creación de intervalos intercuartílicos (IQR) fue fundamental para identificar y tratar estos valores.\n",
    "\n",
    "8. En promedio encontramos que los anuncios permanecen durante 39,5 días antes de ser eliminados. Por otro lado, el 50% de los anuncios se eliminan dentro de los 33,0 días posteriores a su publicación. Y como mencionamos anteriormente, hay anuncios que pasan mucho tiempo antes de ser eliminados con un valor máximo de 271 días.\n",
    "\n",
    "9. También observamos que alrededor de 216 anuncios se eliminaron rápidamente después de 1 día.\n",
    "\n",
    "10.  Encontramos que los buses  y Truck (camionetas) son los tipos de vehículos que cuestan más en promedio, sin embargo, de los vehículos que cuestan más en promedio, los dos tipos de vehículos que tienen la mayoría de anuncios son 'Sedan'y 'SUV'.\n",
    "\n",
    "11. Se comprobó que el precio tiene una correlación negativa con la edad del vehículo. Es decir, cuanto más antiguo es el vehículo, menor es el precio. Los vehículos más nuevos o los vehículos con menos de 5 años tienen un precio más alto, lo cual es una conclusión razonable.\n",
    "\n",
    "12. Se comprobó que el precio tiene una correlación negativa con el kilometraje del vehículo. Es decir, cuanto más kilómetros tiene el carro, menor es el precio. Los vehículos más nuevos o los vehículos con menos de 100,000 millas tienen un precio más alto, en comparación con vehículos con alto kilometraje, menor es su precio; lo cual es una conclusión razonable.\n",
    "\n",
    "13. Se comprobó que en promedio, cuanto mejor sea el estado de un vehículo, mayor es el precio.\n",
    "\n",
    "14. No encontramos una conexión clara entre el precio y el color de la pintura, y asumimos que depende principalmente de las preferencias de los clientes."
   ]
  }
 ],
 "metadata": {
  "ExecuteTimeLog": [
   {
    "duration": 828,
    "start_time": "2021-11-16T09:21:11.304Z"
   },
   {
    "duration": 893,
    "start_time": "2021-11-16T09:21:17.728Z"
   },
   {
    "duration": 1150,
    "start_time": "2021-11-16T09:21:29.568Z"
   },
   {
    "duration": 3,
    "start_time": "2021-11-16T09:24:14.495Z"
   },
   {
    "duration": 120,
    "start_time": "2021-11-16T09:24:46.630Z"
   },
   {
    "duration": 3,
    "start_time": "2021-11-16T09:28:27.882Z"
   },
   {
    "duration": 4,
    "start_time": "2021-11-16T09:29:54.281Z"
   },
   {
    "duration": 3,
    "start_time": "2021-11-16T09:30:45.936Z"
   },
   {
    "duration": 4,
    "start_time": "2021-11-16T09:31:06.300Z"
   },
   {
    "duration": 113,
    "start_time": "2021-11-16T09:31:37.208Z"
   },
   {
    "duration": 143,
    "start_time": "2021-11-16T09:31:48.656Z"
   },
   {
    "duration": 98,
    "start_time": "2021-11-16T09:31:55.678Z"
   },
   {
    "duration": 3,
    "start_time": "2021-11-16T09:32:08.535Z"
   },
   {
    "duration": 111,
    "start_time": "2021-11-16T09:32:10.120Z"
   },
   {
    "duration": 3,
    "start_time": "2021-11-16T09:32:15.732Z"
   },
   {
    "duration": 4,
    "start_time": "2021-11-16T09:32:29.423Z"
   },
   {
    "duration": 3,
    "start_time": "2021-11-16T10:03:03.074Z"
   },
   {
    "duration": 3,
    "start_time": "2021-11-16T10:10:01.288Z"
   },
   {
    "duration": 3,
    "start_time": "2021-11-16T10:10:46.923Z"
   },
   {
    "duration": 121,
    "start_time": "2021-11-16T10:37:46.494Z"
   },
   {
    "duration": 125,
    "start_time": "2021-11-16T10:38:20.632Z"
   },
   {
    "duration": 112,
    "start_time": "2021-11-16T10:46:53.001Z"
   },
   {
    "duration": 110,
    "start_time": "2021-11-16T10:48:25.775Z"
   },
   {
    "duration": 3,
    "start_time": "2021-11-16T10:50:18.720Z"
   },
   {
    "duration": 4,
    "start_time": "2021-11-16T10:50:37.649Z"
   },
   {
    "duration": 2,
    "start_time": "2021-11-16T10:50:51.884Z"
   },
   {
    "duration": 3,
    "start_time": "2021-11-16T10:51:56.237Z"
   },
   {
    "duration": 101,
    "start_time": "2021-11-16T10:53:13.791Z"
   },
   {
    "duration": 3,
    "start_time": "2021-11-16T10:55:59.186Z"
   },
   {
    "duration": 3,
    "start_time": "2021-11-16T10:56:10.751Z"
   },
   {
    "duration": 3,
    "start_time": "2021-11-16T10:56:49.038Z"
   },
   {
    "duration": 3,
    "start_time": "2021-11-16T10:56:49.174Z"
   },
   {
    "duration": 4,
    "start_time": "2021-11-16T10:56:49.414Z"
   },
   {
    "duration": 3,
    "start_time": "2021-11-16T10:56:49.680Z"
   },
   {
    "duration": 3,
    "start_time": "2021-11-16T10:56:50.370Z"
   },
   {
    "duration": 114,
    "start_time": "2021-11-16T10:59:34.518Z"
   },
   {
    "duration": 3,
    "start_time": "2021-11-16T11:01:41.201Z"
   },
   {
    "duration": 116,
    "start_time": "2021-11-16T11:01:48.754Z"
   },
   {
    "duration": 3,
    "start_time": "2021-11-16T11:02:16.685Z"
   },
   {
    "duration": 3,
    "start_time": "2021-11-16T11:02:19.479Z"
   },
   {
    "duration": 3,
    "start_time": "2021-11-16T11:02:47.067Z"
   },
   {
    "duration": 3,
    "start_time": "2021-11-16T11:02:49.353Z"
   },
   {
    "duration": 3,
    "start_time": "2021-11-16T11:03:07.835Z"
   },
   {
    "duration": 3,
    "start_time": "2021-11-16T11:03:07.953Z"
   },
   {
    "duration": 112,
    "start_time": "2021-11-16T11:07:52.072Z"
   },
   {
    "duration": 187,
    "start_time": "2021-11-16T11:09:23.468Z"
   },
   {
    "duration": 4,
    "start_time": "2021-11-16T11:10:01.455Z"
   },
   {
    "duration": 3,
    "start_time": "2021-11-16T11:10:05.069Z"
   },
   {
    "duration": 4,
    "start_time": "2021-11-16T11:10:13.376Z"
   },
   {
    "duration": 3,
    "start_time": "2021-11-16T11:10:14.434Z"
   },
   {
    "duration": 3,
    "start_time": "2021-11-16T11:10:22.853Z"
   },
   {
    "duration": 4,
    "start_time": "2021-11-16T11:27:29.279Z"
   },
   {
    "duration": 4,
    "start_time": "2021-11-16T11:29:08.919Z"
   },
   {
    "duration": 118,
    "start_time": "2021-11-16T11:29:46.703Z"
   },
   {
    "duration": 437,
    "start_time": "2021-11-16T11:36:02.181Z"
   },
   {
    "duration": 157,
    "start_time": "2021-11-16T11:36:14.388Z"
   },
   {
    "duration": 207,
    "start_time": "2021-11-16T11:47:15.898Z"
   },
   {
    "duration": 3,
    "start_time": "2021-11-16T11:53:52.092Z"
   },
   {
    "duration": 3,
    "start_time": "2021-11-16T11:53:52.236Z"
   },
   {
    "duration": 3,
    "start_time": "2021-11-16T11:59:12.005Z"
   },
   {
    "duration": 112,
    "start_time": "2021-11-16T12:00:33.446Z"
   },
   {
    "duration": 3,
    "start_time": "2021-11-16T12:02:14.453Z"
   },
   {
    "duration": 3,
    "start_time": "2021-11-16T12:02:39.512Z"
   },
   {
    "duration": 106,
    "start_time": "2021-11-16T12:03:03.460Z"
   }
  ],
  "kernelspec": {
   "display_name": "Python 3 (ipykernel)",
   "language": "python",
   "name": "python3"
  },
  "language_info": {
   "codemirror_mode": {
    "name": "ipython",
    "version": 3
   },
   "file_extension": ".py",
   "mimetype": "text/x-python",
   "name": "python",
   "nbconvert_exporter": "python",
   "pygments_lexer": "ipython3",
   "version": "3.9.5"
  },
  "toc": {
   "base_numbering": 1,
   "nav_menu": {},
   "number_sections": true,
   "sideBar": true,
   "skip_h1_title": false,
   "title_cell": "Table of Contents",
   "title_sidebar": "Contents",
   "toc_cell": false,
   "toc_position": {
    "height": "calc(100% - 180px)",
    "left": "10px",
    "top": "150px",
    "width": "165px"
   },
   "toc_section_display": true,
   "toc_window_display": true
  }
 },
 "nbformat": 4,
 "nbformat_minor": 2
}
